{
 "cells": [
  {
   "cell_type": "markdown",
   "metadata": {},
   "source": [
    "MATPLOTLIB - Visualiztion"
   ]
  },
  {
   "cell_type": "code",
   "execution_count": 3,
   "metadata": {},
   "outputs": [],
   "source": [
    "import pandas as pd\n",
    "import numpy as np\n",
    "import matplotlib.pyplot as plt\n",
    "import seaborn as sns\n",
    "import plotly.express as px\n"
   ]
  },
  {
   "cell_type": "code",
   "execution_count": 4,
   "metadata": {},
   "outputs": [
    {
     "data": {
      "text/html": [
       "<div>\n",
       "<style scoped>\n",
       "    .dataframe tbody tr th:only-of-type {\n",
       "        vertical-align: middle;\n",
       "    }\n",
       "\n",
       "    .dataframe tbody tr th {\n",
       "        vertical-align: top;\n",
       "    }\n",
       "\n",
       "    .dataframe thead th {\n",
       "        text-align: right;\n",
       "    }\n",
       "</style>\n",
       "<table border=\"1\" class=\"dataframe\">\n",
       "  <thead>\n",
       "    <tr style=\"text-align: right;\">\n",
       "      <th></th>\n",
       "      <th>Country</th>\n",
       "      <th>Density\\n(P/Km2)</th>\n",
       "      <th>Abbreviation</th>\n",
       "      <th>Agricultural Land( %)</th>\n",
       "      <th>Land Area(Km2)</th>\n",
       "      <th>Armed Forces size</th>\n",
       "      <th>Birth Rate</th>\n",
       "      <th>Calling Code</th>\n",
       "      <th>Capital/Major City</th>\n",
       "      <th>Co2-Emissions</th>\n",
       "      <th>...</th>\n",
       "      <th>Out of pocket health expenditure</th>\n",
       "      <th>Physicians per thousand</th>\n",
       "      <th>Population</th>\n",
       "      <th>Population: Labor force participation (%)</th>\n",
       "      <th>Tax revenue (%)</th>\n",
       "      <th>Total tax rate</th>\n",
       "      <th>Unemployment rate</th>\n",
       "      <th>Urban_population</th>\n",
       "      <th>Latitude</th>\n",
       "      <th>Longitude</th>\n",
       "    </tr>\n",
       "  </thead>\n",
       "  <tbody>\n",
       "    <tr>\n",
       "      <th>0</th>\n",
       "      <td>Afghanistan</td>\n",
       "      <td>60</td>\n",
       "      <td>AF</td>\n",
       "      <td>58.10%</td>\n",
       "      <td>652,230</td>\n",
       "      <td>323,000</td>\n",
       "      <td>32.49</td>\n",
       "      <td>93.0</td>\n",
       "      <td>Kabul</td>\n",
       "      <td>8,672</td>\n",
       "      <td>...</td>\n",
       "      <td>78.40%</td>\n",
       "      <td>0.28</td>\n",
       "      <td>38,041,754</td>\n",
       "      <td>48.90%</td>\n",
       "      <td>9.30%</td>\n",
       "      <td>71.40%</td>\n",
       "      <td>11.12%</td>\n",
       "      <td>9,797,273</td>\n",
       "      <td>33.939110</td>\n",
       "      <td>67.709953</td>\n",
       "    </tr>\n",
       "    <tr>\n",
       "      <th>1</th>\n",
       "      <td>Albania</td>\n",
       "      <td>105</td>\n",
       "      <td>AL</td>\n",
       "      <td>43.10%</td>\n",
       "      <td>28,748</td>\n",
       "      <td>9,000</td>\n",
       "      <td>11.78</td>\n",
       "      <td>355.0</td>\n",
       "      <td>Tirana</td>\n",
       "      <td>4,536</td>\n",
       "      <td>...</td>\n",
       "      <td>56.90%</td>\n",
       "      <td>1.20</td>\n",
       "      <td>2,854,191</td>\n",
       "      <td>55.70%</td>\n",
       "      <td>18.60%</td>\n",
       "      <td>36.60%</td>\n",
       "      <td>12.33%</td>\n",
       "      <td>1,747,593</td>\n",
       "      <td>41.153332</td>\n",
       "      <td>20.168331</td>\n",
       "    </tr>\n",
       "    <tr>\n",
       "      <th>2</th>\n",
       "      <td>Algeria</td>\n",
       "      <td>18</td>\n",
       "      <td>DZ</td>\n",
       "      <td>17.40%</td>\n",
       "      <td>2,381,741</td>\n",
       "      <td>317,000</td>\n",
       "      <td>24.28</td>\n",
       "      <td>213.0</td>\n",
       "      <td>Algiers</td>\n",
       "      <td>150,006</td>\n",
       "      <td>...</td>\n",
       "      <td>28.10%</td>\n",
       "      <td>1.72</td>\n",
       "      <td>43,053,054</td>\n",
       "      <td>41.20%</td>\n",
       "      <td>37.20%</td>\n",
       "      <td>66.10%</td>\n",
       "      <td>11.70%</td>\n",
       "      <td>31,510,100</td>\n",
       "      <td>28.033886</td>\n",
       "      <td>1.659626</td>\n",
       "    </tr>\n",
       "    <tr>\n",
       "      <th>3</th>\n",
       "      <td>Andorra</td>\n",
       "      <td>164</td>\n",
       "      <td>AD</td>\n",
       "      <td>40.00%</td>\n",
       "      <td>468</td>\n",
       "      <td>NaN</td>\n",
       "      <td>7.20</td>\n",
       "      <td>376.0</td>\n",
       "      <td>Andorra la Vella</td>\n",
       "      <td>469</td>\n",
       "      <td>...</td>\n",
       "      <td>36.40%</td>\n",
       "      <td>3.33</td>\n",
       "      <td>77,142</td>\n",
       "      <td>NaN</td>\n",
       "      <td>NaN</td>\n",
       "      <td>NaN</td>\n",
       "      <td>NaN</td>\n",
       "      <td>67,873</td>\n",
       "      <td>42.506285</td>\n",
       "      <td>1.521801</td>\n",
       "    </tr>\n",
       "    <tr>\n",
       "      <th>4</th>\n",
       "      <td>Angola</td>\n",
       "      <td>26</td>\n",
       "      <td>AO</td>\n",
       "      <td>47.50%</td>\n",
       "      <td>1,246,700</td>\n",
       "      <td>117,000</td>\n",
       "      <td>40.73</td>\n",
       "      <td>244.0</td>\n",
       "      <td>Luanda</td>\n",
       "      <td>34,693</td>\n",
       "      <td>...</td>\n",
       "      <td>33.40%</td>\n",
       "      <td>0.21</td>\n",
       "      <td>31,825,295</td>\n",
       "      <td>77.50%</td>\n",
       "      <td>9.20%</td>\n",
       "      <td>49.10%</td>\n",
       "      <td>6.89%</td>\n",
       "      <td>21,061,025</td>\n",
       "      <td>-11.202692</td>\n",
       "      <td>17.873887</td>\n",
       "    </tr>\n",
       "  </tbody>\n",
       "</table>\n",
       "<p>5 rows × 35 columns</p>\n",
       "</div>"
      ],
      "text/plain": [
       "       Country Density\\n(P/Km2) Abbreviation Agricultural Land( %)  \\\n",
       "0  Afghanistan               60           AF                58.10%   \n",
       "1      Albania              105           AL                43.10%   \n",
       "2      Algeria               18           DZ                17.40%   \n",
       "3      Andorra              164           AD                40.00%   \n",
       "4       Angola               26           AO                47.50%   \n",
       "\n",
       "  Land Area(Km2) Armed Forces size  Birth Rate  Calling Code  \\\n",
       "0        652,230           323,000       32.49          93.0   \n",
       "1         28,748             9,000       11.78         355.0   \n",
       "2      2,381,741           317,000       24.28         213.0   \n",
       "3            468               NaN        7.20         376.0   \n",
       "4      1,246,700           117,000       40.73         244.0   \n",
       "\n",
       "  Capital/Major City Co2-Emissions  ... Out of pocket health expenditure  \\\n",
       "0              Kabul         8,672  ...                           78.40%   \n",
       "1             Tirana         4,536  ...                           56.90%   \n",
       "2            Algiers       150,006  ...                           28.10%   \n",
       "3   Andorra la Vella           469  ...                           36.40%   \n",
       "4             Luanda        34,693  ...                           33.40%   \n",
       "\n",
       "  Physicians per thousand  Population  \\\n",
       "0                    0.28  38,041,754   \n",
       "1                    1.20   2,854,191   \n",
       "2                    1.72  43,053,054   \n",
       "3                    3.33      77,142   \n",
       "4                    0.21  31,825,295   \n",
       "\n",
       "   Population: Labor force participation (%) Tax revenue (%) Total tax rate  \\\n",
       "0                                     48.90%           9.30%         71.40%   \n",
       "1                                     55.70%          18.60%         36.60%   \n",
       "2                                     41.20%          37.20%         66.10%   \n",
       "3                                        NaN             NaN            NaN   \n",
       "4                                     77.50%           9.20%         49.10%   \n",
       "\n",
       "  Unemployment rate Urban_population   Latitude  Longitude  \n",
       "0            11.12%        9,797,273  33.939110  67.709953  \n",
       "1            12.33%        1,747,593  41.153332  20.168331  \n",
       "2            11.70%       31,510,100  28.033886   1.659626  \n",
       "3               NaN           67,873  42.506285   1.521801  \n",
       "4             6.89%       21,061,025 -11.202692  17.873887  \n",
       "\n",
       "[5 rows x 35 columns]"
      ]
     },
     "execution_count": 4,
     "metadata": {},
     "output_type": "execute_result"
    }
   ],
   "source": [
    "df = pd.read_csv(\"world-data-2023.csv\")\n",
    "df.head()"
   ]
  },
  {
   "cell_type": "code",
   "execution_count": 5,
   "metadata": {},
   "outputs": [
    {
     "data": {
      "text/html": [
       "<div>\n",
       "<style scoped>\n",
       "    .dataframe tbody tr th:only-of-type {\n",
       "        vertical-align: middle;\n",
       "    }\n",
       "\n",
       "    .dataframe tbody tr th {\n",
       "        vertical-align: top;\n",
       "    }\n",
       "\n",
       "    .dataframe thead th {\n",
       "        text-align: right;\n",
       "    }\n",
       "</style>\n",
       "<table border=\"1\" class=\"dataframe\">\n",
       "  <thead>\n",
       "    <tr style=\"text-align: right;\">\n",
       "      <th></th>\n",
       "      <th>Birth Rate</th>\n",
       "      <th>Calling Code</th>\n",
       "      <th>Fertility Rate</th>\n",
       "      <th>Infant mortality</th>\n",
       "      <th>Life expectancy</th>\n",
       "      <th>Maternal mortality ratio</th>\n",
       "      <th>Physicians per thousand</th>\n",
       "      <th>Latitude</th>\n",
       "      <th>Longitude</th>\n",
       "    </tr>\n",
       "  </thead>\n",
       "  <tbody>\n",
       "    <tr>\n",
       "      <th>count</th>\n",
       "      <td>189.000000</td>\n",
       "      <td>194.000000</td>\n",
       "      <td>188.000000</td>\n",
       "      <td>189.000000</td>\n",
       "      <td>187.000000</td>\n",
       "      <td>181.000000</td>\n",
       "      <td>188.000000</td>\n",
       "      <td>194.000000</td>\n",
       "      <td>194.000000</td>\n",
       "    </tr>\n",
       "    <tr>\n",
       "      <th>mean</th>\n",
       "      <td>20.214974</td>\n",
       "      <td>360.546392</td>\n",
       "      <td>2.698138</td>\n",
       "      <td>21.332804</td>\n",
       "      <td>72.279679</td>\n",
       "      <td>160.392265</td>\n",
       "      <td>1.839840</td>\n",
       "      <td>19.092351</td>\n",
       "      <td>20.232434</td>\n",
       "    </tr>\n",
       "    <tr>\n",
       "      <th>std</th>\n",
       "      <td>9.945774</td>\n",
       "      <td>323.236419</td>\n",
       "      <td>1.282267</td>\n",
       "      <td>19.548058</td>\n",
       "      <td>7.483661</td>\n",
       "      <td>233.502024</td>\n",
       "      <td>1.684261</td>\n",
       "      <td>23.961779</td>\n",
       "      <td>66.716110</td>\n",
       "    </tr>\n",
       "    <tr>\n",
       "      <th>min</th>\n",
       "      <td>5.900000</td>\n",
       "      <td>1.000000</td>\n",
       "      <td>0.980000</td>\n",
       "      <td>1.400000</td>\n",
       "      <td>52.800000</td>\n",
       "      <td>2.000000</td>\n",
       "      <td>0.010000</td>\n",
       "      <td>-40.900557</td>\n",
       "      <td>-175.198242</td>\n",
       "    </tr>\n",
       "    <tr>\n",
       "      <th>25%</th>\n",
       "      <td>11.300000</td>\n",
       "      <td>82.500000</td>\n",
       "      <td>1.705000</td>\n",
       "      <td>6.000000</td>\n",
       "      <td>67.000000</td>\n",
       "      <td>13.000000</td>\n",
       "      <td>0.332500</td>\n",
       "      <td>4.544175</td>\n",
       "      <td>-7.941496</td>\n",
       "    </tr>\n",
       "    <tr>\n",
       "      <th>50%</th>\n",
       "      <td>17.950000</td>\n",
       "      <td>255.500000</td>\n",
       "      <td>2.245000</td>\n",
       "      <td>14.000000</td>\n",
       "      <td>73.200000</td>\n",
       "      <td>53.000000</td>\n",
       "      <td>1.460000</td>\n",
       "      <td>17.273849</td>\n",
       "      <td>20.972652</td>\n",
       "    </tr>\n",
       "    <tr>\n",
       "      <th>75%</th>\n",
       "      <td>28.750000</td>\n",
       "      <td>506.750000</td>\n",
       "      <td>3.597500</td>\n",
       "      <td>32.700000</td>\n",
       "      <td>77.500000</td>\n",
       "      <td>186.000000</td>\n",
       "      <td>2.935000</td>\n",
       "      <td>40.124603</td>\n",
       "      <td>48.281523</td>\n",
       "    </tr>\n",
       "    <tr>\n",
       "      <th>max</th>\n",
       "      <td>46.080000</td>\n",
       "      <td>1876.000000</td>\n",
       "      <td>6.910000</td>\n",
       "      <td>84.500000</td>\n",
       "      <td>85.400000</td>\n",
       "      <td>1150.000000</td>\n",
       "      <td>8.420000</td>\n",
       "      <td>64.963051</td>\n",
       "      <td>178.065032</td>\n",
       "    </tr>\n",
       "  </tbody>\n",
       "</table>\n",
       "</div>"
      ],
      "text/plain": [
       "       Birth Rate  Calling Code  Fertility Rate  Infant mortality  \\\n",
       "count  189.000000    194.000000      188.000000        189.000000   \n",
       "mean    20.214974    360.546392        2.698138         21.332804   \n",
       "std      9.945774    323.236419        1.282267         19.548058   \n",
       "min      5.900000      1.000000        0.980000          1.400000   \n",
       "25%     11.300000     82.500000        1.705000          6.000000   \n",
       "50%     17.950000    255.500000        2.245000         14.000000   \n",
       "75%     28.750000    506.750000        3.597500         32.700000   \n",
       "max     46.080000   1876.000000        6.910000         84.500000   \n",
       "\n",
       "       Life expectancy  Maternal mortality ratio  Physicians per thousand  \\\n",
       "count       187.000000                181.000000               188.000000   \n",
       "mean         72.279679                160.392265                 1.839840   \n",
       "std           7.483661                233.502024                 1.684261   \n",
       "min          52.800000                  2.000000                 0.010000   \n",
       "25%          67.000000                 13.000000                 0.332500   \n",
       "50%          73.200000                 53.000000                 1.460000   \n",
       "75%          77.500000                186.000000                 2.935000   \n",
       "max          85.400000               1150.000000                 8.420000   \n",
       "\n",
       "         Latitude   Longitude  \n",
       "count  194.000000  194.000000  \n",
       "mean    19.092351   20.232434  \n",
       "std     23.961779   66.716110  \n",
       "min    -40.900557 -175.198242  \n",
       "25%      4.544175   -7.941496  \n",
       "50%     17.273849   20.972652  \n",
       "75%     40.124603   48.281523  \n",
       "max     64.963051  178.065032  "
      ]
     },
     "execution_count": 5,
     "metadata": {},
     "output_type": "execute_result"
    }
   ],
   "source": [
    "df.describe()"
   ]
  },
  {
   "cell_type": "code",
   "execution_count": 6,
   "metadata": {},
   "outputs": [
    {
     "name": "stdout",
     "output_type": "stream",
     "text": [
      "<class 'pandas.core.frame.DataFrame'>\n",
      "RangeIndex: 195 entries, 0 to 194\n",
      "Data columns (total 35 columns):\n",
      " #   Column                                     Non-Null Count  Dtype  \n",
      "---  ------                                     --------------  -----  \n",
      " 0   Country                                    195 non-null    object \n",
      " 1   Density\n",
      "(P/Km2)                            195 non-null    object \n",
      " 2   Abbreviation                               188 non-null    object \n",
      " 3   Agricultural Land( %)                      188 non-null    object \n",
      " 4   Land Area(Km2)                             194 non-null    object \n",
      " 5   Armed Forces size                          171 non-null    object \n",
      " 6   Birth Rate                                 189 non-null    float64\n",
      " 7   Calling Code                               194 non-null    float64\n",
      " 8   Capital/Major City                         192 non-null    object \n",
      " 9   Co2-Emissions                              188 non-null    object \n",
      " 10  CPI                                        178 non-null    object \n",
      " 11  CPI Change (%)                             179 non-null    object \n",
      " 12  Currency-Code                              180 non-null    object \n",
      " 13  Fertility Rate                             188 non-null    float64\n",
      " 14  Forested Area (%)                          188 non-null    object \n",
      " 15  Gasoline Price                             175 non-null    object \n",
      " 16  GDP                                        193 non-null    object \n",
      " 17  Gross primary education enrollment (%)     188 non-null    object \n",
      " 18  Gross tertiary education enrollment (%)    183 non-null    object \n",
      " 19  Infant mortality                           189 non-null    float64\n",
      " 20  Largest city                               189 non-null    object \n",
      " 21  Life expectancy                            187 non-null    float64\n",
      " 22  Maternal mortality ratio                   181 non-null    float64\n",
      " 23  Minimum wage                               150 non-null    object \n",
      " 24  Official language                          194 non-null    object \n",
      " 25  Out of pocket health expenditure           188 non-null    object \n",
      " 26  Physicians per thousand                    188 non-null    float64\n",
      " 27  Population                                 194 non-null    object \n",
      " 28  Population: Labor force participation (%)  176 non-null    object \n",
      " 29  Tax revenue (%)                            169 non-null    object \n",
      " 30  Total tax rate                             183 non-null    object \n",
      " 31  Unemployment rate                          176 non-null    object \n",
      " 32  Urban_population                           190 non-null    object \n",
      " 33  Latitude                                   194 non-null    float64\n",
      " 34  Longitude                                  194 non-null    float64\n",
      "dtypes: float64(9), object(26)\n",
      "memory usage: 53.4+ KB\n"
     ]
    }
   ],
   "source": [
    "df.info()"
   ]
  },
  {
   "cell_type": "code",
   "execution_count": null,
   "metadata": {},
   "outputs": [],
   "source": [
    "for i in df.columns:\n",
    "    if df[i].dtype == 'object': \n",
    "        df[i] = df[i].str.replace('%','') \n",
    "        df[i] = df[i].str.replace(',','')\n",
    "        df[i] = df[i].str.replace('.','')\n",
    "        df[i] = df[i].str.replace('$','')\n",
    "df"
   ]
  },
  {
   "cell_type": "code",
   "execution_count": 8,
   "metadata": {},
   "outputs": [
    {
     "name": "stdout",
     "output_type": "stream",
     "text": [
      "<class 'pandas.core.frame.DataFrame'>\n",
      "RangeIndex: 195 entries, 0 to 194\n",
      "Data columns (total 35 columns):\n",
      " #   Column                                     Non-Null Count  Dtype  \n",
      "---  ------                                     --------------  -----  \n",
      " 0   Country                                    195 non-null    object \n",
      " 1   Density\n",
      "(P/Km2)                            195 non-null    object \n",
      " 2   Abbreviation                               188 non-null    object \n",
      " 3   Agricultural Land( %)                      188 non-null    float64\n",
      " 4   Land Area(Km2)                             194 non-null    float64\n",
      " 5   Armed Forces size                          171 non-null    float64\n",
      " 6   Birth Rate                                 189 non-null    float64\n",
      " 7   Calling Code                               194 non-null    float64\n",
      " 8   Capital/Major City                         192 non-null    object \n",
      " 9   Co2-Emissions                              188 non-null    float64\n",
      " 10  CPI                                        178 non-null    float64\n",
      " 11  CPI Change (%)                             179 non-null    float64\n",
      " 12  Currency-Code                              180 non-null    object \n",
      " 13  Fertility Rate                             188 non-null    float64\n",
      " 14  Forested Area (%)                          188 non-null    float64\n",
      " 15  Gasoline Price                             175 non-null    float64\n",
      " 16  GDP                                        193 non-null    float64\n",
      " 17  Gross primary education enrollment (%)     188 non-null    float64\n",
      " 18  Gross tertiary education enrollment (%)    183 non-null    float64\n",
      " 19  Infant mortality                           189 non-null    float64\n",
      " 20  Largest city                               189 non-null    object \n",
      " 21  Life expectancy                            187 non-null    float64\n",
      " 22  Maternal mortality ratio                   181 non-null    float64\n",
      " 23  Minimum wage                               150 non-null    float64\n",
      " 24  Official language                          194 non-null    object \n",
      " 25  Out of pocket health expenditure           188 non-null    float64\n",
      " 26  Physicians per thousand                    188 non-null    float64\n",
      " 27  Population                                 194 non-null    float64\n",
      " 28  Population: Labor force participation (%)  176 non-null    float64\n",
      " 29  Tax revenue (%)                            169 non-null    float64\n",
      " 30  Total tax rate                             183 non-null    float64\n",
      " 31  Unemployment rate                          176 non-null    float64\n",
      " 32  Urban_population                           190 non-null    float64\n",
      " 33  Latitude                                   194 non-null    float64\n",
      " 34  Longitude                                  194 non-null    float64\n",
      "dtypes: float64(28), object(7)\n",
      "memory usage: 53.4+ KB\n"
     ]
    }
   ],
   "source": [
    "columns_str = ['Land Area(Km2)','Agricultural Land( %)','Armed Forces size', 'Co2-Emissions','CPI','CPI Change (%)','Forested Area (%)','Gasoline Price','GDP','Gross primary education enrollment (%)','Gross tertiary education enrollment (%)','Minimum wage', 'Out of pocket health expenditure', 'Physicians per thousand','Population', 'Population: Labor force participation (%)','Tax revenue (%)','Total tax rate','Unemployment rate','Urban_population','Latitude','Longitude']\n",
    "for i in columns_str:\n",
    "    if df[i].dtype == 'object':\n",
    "        df[i] = df[i].astype(float)\n",
    "\n",
    "df.info()"
   ]
  },
  {
   "cell_type": "code",
   "execution_count": 9,
   "metadata": {},
   "outputs": [
    {
     "data": {
      "text/plain": [
       "Country                                       0\n",
       "Density\\n(P/Km2)                              0\n",
       "Abbreviation                                  7\n",
       "Agricultural Land( %)                         7\n",
       "Land Area(Km2)                                1\n",
       "Armed Forces size                            24\n",
       "Birth Rate                                    6\n",
       "Calling Code                                  1\n",
       "Capital/Major City                            3\n",
       "Co2-Emissions                                 7\n",
       "CPI                                          17\n",
       "CPI Change (%)                               16\n",
       "Currency-Code                                15\n",
       "Fertility Rate                                7\n",
       "Forested Area (%)                             7\n",
       "Gasoline Price                               20\n",
       "GDP                                           2\n",
       "Gross primary education enrollment (%)        7\n",
       "Gross tertiary education enrollment (%)      12\n",
       "Infant mortality                              6\n",
       "Largest city                                  6\n",
       "Life expectancy                               8\n",
       "Maternal mortality ratio                     14\n",
       "Minimum wage                                 45\n",
       "Official language                             1\n",
       "Out of pocket health expenditure              7\n",
       "Physicians per thousand                       7\n",
       "Population                                    1\n",
       "Population: Labor force participation (%)    19\n",
       "Tax revenue (%)                              26\n",
       "Total tax rate                               12\n",
       "Unemployment rate                            19\n",
       "Urban_population                              5\n",
       "Latitude                                      1\n",
       "Longitude                                     1\n",
       "dtype: int64"
      ]
     },
     "execution_count": 9,
     "metadata": {},
     "output_type": "execute_result"
    }
   ],
   "source": [
    "df.isna().sum()"
   ]
  },
  {
   "cell_type": "code",
   "execution_count": 10,
   "metadata": {},
   "outputs": [
    {
     "data": {
      "text/plain": [
       "(195, 32)"
      ]
     },
     "execution_count": 10,
     "metadata": {},
     "output_type": "execute_result"
    }
   ],
   "source": [
    "# Non important for analysis\n",
    "df.drop(columns=['Abbreviation','Calling Code','Currency-Code'], inplace=True)\n",
    "df.shape"
   ]
  },
  {
   "cell_type": "code",
   "execution_count": 11,
   "metadata": {},
   "outputs": [
    {
     "data": {
      "image/png": "[encoded data removed]",
      "text/plain": [
       "<Figure size 1000x600 with 1 Axes>"
      ]
     },
     "metadata": {},
     "output_type": "display_data"
    }
   ],
   "source": [
    "plt.figure(figsize=(10, 6))\n",
    "sns.heatmap(df.isnull(), cmap='viridis', cbar=False)\n",
    "plt.title('Missing Values Heatmap')\n",
    "plt.show()"
   ]
  },
  {
   "cell_type": "code",
   "execution_count": 12,
   "metadata": {},
   "outputs": [
    {
     "name": "stdout",
     "output_type": "stream",
     "text": [
      "<class 'pandas.core.frame.DataFrame'>\n",
      "RangeIndex: 195 entries, 0 to 194\n",
      "Data columns (total 28 columns):\n",
      " #   Column                                     Non-Null Count  Dtype  \n",
      "---  ------                                     --------------  -----  \n",
      " 0   Country                                    195 non-null    object \n",
      " 1   Density\n",
      "(P/Km2)                            195 non-null    object \n",
      " 2   Agricultural Land( %)                      188 non-null    float64\n",
      " 3   Land Area(Km2)                             194 non-null    float64\n",
      " 4   Birth Rate                                 189 non-null    float64\n",
      " 5   Capital/Major City                         192 non-null    object \n",
      " 6   Co2-Emissions                              188 non-null    float64\n",
      " 7   CPI                                        178 non-null    float64\n",
      " 8   CPI Change (%)                             179 non-null    float64\n",
      " 9   Fertility Rate                             188 non-null    float64\n",
      " 10  Forested Area (%)                          188 non-null    float64\n",
      " 11  GDP                                        193 non-null    float64\n",
      " 12  Gross primary education enrollment (%)     188 non-null    float64\n",
      " 13  Gross tertiary education enrollment (%)    183 non-null    float64\n",
      " 14  Infant mortality                           189 non-null    float64\n",
      " 15  Largest city                               189 non-null    object \n",
      " 16  Life expectancy                            187 non-null    float64\n",
      " 17  Maternal mortality ratio                   181 non-null    float64\n",
      " 18  Official language                          194 non-null    object \n",
      " 19  Out of pocket health expenditure           188 non-null    float64\n",
      " 20  Physicians per thousand                    188 non-null    float64\n",
      " 21  Population                                 194 non-null    float64\n",
      " 22  Population: Labor force participation (%)  176 non-null    float64\n",
      " 23  Total tax rate                             183 non-null    float64\n",
      " 24  Unemployment rate                          176 non-null    float64\n",
      " 25  Urban_population                           190 non-null    float64\n",
      " 26  Latitude                                   194 non-null    float64\n",
      " 27  Longitude                                  194 non-null    float64\n",
      "dtypes: float64(23), object(5)\n",
      "memory usage: 42.8+ KB\n"
     ]
    }
   ],
   "source": [
    "# High amount of Null values (=>20) and not worth to fill\n",
    "df.drop(columns=['Minimum wage','Armed Forces size','Gasoline Price','Tax revenue (%)'], inplace=True)\n",
    "df.info()"
   ]
  },
  {
   "cell_type": "code",
   "execution_count": 13,
   "metadata": {},
   "outputs": [],
   "source": [
    "for i, row in df.iterrows():\n",
    "    if row.isnull().sum() > 5:\n",
    "        df.drop(i, inplace=True)"
   ]
  },
  {
   "cell_type": "code",
   "execution_count": 14,
   "metadata": {},
   "outputs": [
    {
     "data": {
      "image/png": "[encoded data removed]",
      "text/plain": [
       "<Figure size 1000x600 with 1 Axes>"
      ]
     },
     "metadata": {},
     "output_type": "display_data"
    }
   ],
   "source": [
    "plt.figure(figsize=(10, 6))\n",
    "sns.heatmap(df.isnull(), cmap='viridis', cbar=False)\n",
    "plt.title('Missing Values Heatmap')\n",
    "plt.show()"
   ]
  },
  {
   "cell_type": "code",
   "execution_count": 15,
   "metadata": {},
   "outputs": [
    {
     "data": {
      "text/html": [
       "<div>\n",
       "<style scoped>\n",
       "    .dataframe tbody tr th:only-of-type {\n",
       "        vertical-align: middle;\n",
       "    }\n",
       "\n",
       "    .dataframe tbody tr th {\n",
       "        vertical-align: top;\n",
       "    }\n",
       "\n",
       "    .dataframe thead th {\n",
       "        text-align: right;\n",
       "    }\n",
       "</style>\n",
       "<table border=\"1\" class=\"dataframe\">\n",
       "  <thead>\n",
       "    <tr style=\"text-align: right;\">\n",
       "      <th></th>\n",
       "      <th>Country</th>\n",
       "      <th>Density\\n(P/Km2)</th>\n",
       "      <th>Agricultural Land( %)</th>\n",
       "      <th>Land Area(Km2)</th>\n",
       "      <th>Birth Rate</th>\n",
       "      <th>Capital/Major City</th>\n",
       "      <th>Co2-Emissions</th>\n",
       "      <th>CPI</th>\n",
       "      <th>CPI Change (%)</th>\n",
       "      <th>Fertility Rate</th>\n",
       "      <th>...</th>\n",
       "      <th>Official language</th>\n",
       "      <th>Out of pocket health expenditure</th>\n",
       "      <th>Physicians per thousand</th>\n",
       "      <th>Population</th>\n",
       "      <th>Population: Labor force participation (%)</th>\n",
       "      <th>Total tax rate</th>\n",
       "      <th>Unemployment rate</th>\n",
       "      <th>Urban_population</th>\n",
       "      <th>Latitude</th>\n",
       "      <th>Longitude</th>\n",
       "    </tr>\n",
       "  </thead>\n",
       "  <tbody>\n",
       "    <tr>\n",
       "      <th>36</th>\n",
       "      <td>China</td>\n",
       "      <td>153</td>\n",
       "      <td>5620.0</td>\n",
       "      <td>9596960.0</td>\n",
       "      <td>10.90</td>\n",
       "      <td>Beijing</td>\n",
       "      <td>9893038.0</td>\n",
       "      <td>12508.0</td>\n",
       "      <td>290.0</td>\n",
       "      <td>1.69</td>\n",
       "      <td>...</td>\n",
       "      <td>Standard Chinese</td>\n",
       "      <td>3240.0</td>\n",
       "      <td>1.98</td>\n",
       "      <td>1.397715e+09</td>\n",
       "      <td>6800.0</td>\n",
       "      <td>5920.0</td>\n",
       "      <td>432.0</td>\n",
       "      <td>842933962.0</td>\n",
       "      <td>35.861660</td>\n",
       "      <td>104.195397</td>\n",
       "    </tr>\n",
       "    <tr>\n",
       "      <th>77</th>\n",
       "      <td>India</td>\n",
       "      <td>464</td>\n",
       "      <td>6040.0</td>\n",
       "      <td>3287263.0</td>\n",
       "      <td>17.86</td>\n",
       "      <td>New Delhi</td>\n",
       "      <td>2407672.0</td>\n",
       "      <td>18044.0</td>\n",
       "      <td>770.0</td>\n",
       "      <td>2.22</td>\n",
       "      <td>...</td>\n",
       "      <td>Hindi</td>\n",
       "      <td>6510.0</td>\n",
       "      <td>0.86</td>\n",
       "      <td>1.366418e+09</td>\n",
       "      <td>4930.0</td>\n",
       "      <td>4970.0</td>\n",
       "      <td>536.0</td>\n",
       "      <td>471031528.0</td>\n",
       "      <td>20.593684</td>\n",
       "      <td>78.962880</td>\n",
       "    </tr>\n",
       "    <tr>\n",
       "      <th>186</th>\n",
       "      <td>United States</td>\n",
       "      <td>36</td>\n",
       "      <td>4440.0</td>\n",
       "      <td>9833517.0</td>\n",
       "      <td>11.60</td>\n",
       "      <td>Washington DC</td>\n",
       "      <td>5006302.0</td>\n",
       "      <td>11724.0</td>\n",
       "      <td>750.0</td>\n",
       "      <td>1.73</td>\n",
       "      <td>...</td>\n",
       "      <td>None</td>\n",
       "      <td>1110.0</td>\n",
       "      <td>2.61</td>\n",
       "      <td>3.282395e+08</td>\n",
       "      <td>6200.0</td>\n",
       "      <td>3660.0</td>\n",
       "      <td>1470.0</td>\n",
       "      <td>270663028.0</td>\n",
       "      <td>37.090240</td>\n",
       "      <td>-95.712891</td>\n",
       "    </tr>\n",
       "    <tr>\n",
       "      <th>78</th>\n",
       "      <td>Indonesia</td>\n",
       "      <td>151</td>\n",
       "      <td>3150.0</td>\n",
       "      <td>1904569.0</td>\n",
       "      <td>18.07</td>\n",
       "      <td>Jakarta</td>\n",
       "      <td>563325.0</td>\n",
       "      <td>15118.0</td>\n",
       "      <td>300.0</td>\n",
       "      <td>2.31</td>\n",
       "      <td>...</td>\n",
       "      <td>Indonesian</td>\n",
       "      <td>4830.0</td>\n",
       "      <td>0.43</td>\n",
       "      <td>2.702039e+08</td>\n",
       "      <td>6750.0</td>\n",
       "      <td>3010.0</td>\n",
       "      <td>469.0</td>\n",
       "      <td>151509724.0</td>\n",
       "      <td>-0.789275</td>\n",
       "      <td>113.921327</td>\n",
       "    </tr>\n",
       "    <tr>\n",
       "      <th>131</th>\n",
       "      <td>Pakistan</td>\n",
       "      <td>287</td>\n",
       "      <td>4780.0</td>\n",
       "      <td>796095.0</td>\n",
       "      <td>28.25</td>\n",
       "      <td>Islamabad</td>\n",
       "      <td>201150.0</td>\n",
       "      <td>18232.0</td>\n",
       "      <td>1060.0</td>\n",
       "      <td>3.51</td>\n",
       "      <td>...</td>\n",
       "      <td>Urdu</td>\n",
       "      <td>6650.0</td>\n",
       "      <td>0.98</td>\n",
       "      <td>2.165653e+08</td>\n",
       "      <td>5260.0</td>\n",
       "      <td>3390.0</td>\n",
       "      <td>445.0</td>\n",
       "      <td>79927762.0</td>\n",
       "      <td>30.375321</td>\n",
       "      <td>69.345116</td>\n",
       "    </tr>\n",
       "    <tr>\n",
       "      <th>23</th>\n",
       "      <td>Brazil</td>\n",
       "      <td>25</td>\n",
       "      <td>3390.0</td>\n",
       "      <td>8515770.0</td>\n",
       "      <td>13.92</td>\n",
       "      <td>Bras���</td>\n",
       "      <td>462299.0</td>\n",
       "      <td>1674.0</td>\n",
       "      <td>370.0</td>\n",
       "      <td>1.73</td>\n",
       "      <td>...</td>\n",
       "      <td>Portuguese</td>\n",
       "      <td>2830.0</td>\n",
       "      <td>2.15</td>\n",
       "      <td>2.125594e+08</td>\n",
       "      <td>6390.0</td>\n",
       "      <td>6510.0</td>\n",
       "      <td>1208.0</td>\n",
       "      <td>183241641.0</td>\n",
       "      <td>-14.235004</td>\n",
       "      <td>-51.925280</td>\n",
       "    </tr>\n",
       "    <tr>\n",
       "      <th>126</th>\n",
       "      <td>Nigeria</td>\n",
       "      <td>226</td>\n",
       "      <td>7770.0</td>\n",
       "      <td>923768.0</td>\n",
       "      <td>37.91</td>\n",
       "      <td>Abuja</td>\n",
       "      <td>120369.0</td>\n",
       "      <td>26751.0</td>\n",
       "      <td>1140.0</td>\n",
       "      <td>5.39</td>\n",
       "      <td>...</td>\n",
       "      <td>English</td>\n",
       "      <td>7220.0</td>\n",
       "      <td>0.38</td>\n",
       "      <td>2.009636e+08</td>\n",
       "      <td>5290.0</td>\n",
       "      <td>3480.0</td>\n",
       "      <td>810.0</td>\n",
       "      <td>102806948.0</td>\n",
       "      <td>9.081999</td>\n",
       "      <td>8.675277</td>\n",
       "    </tr>\n",
       "    <tr>\n",
       "      <th>13</th>\n",
       "      <td>Bangladesh</td>\n",
       "      <td>1265</td>\n",
       "      <td>7060.0</td>\n",
       "      <td>148460.0</td>\n",
       "      <td>18.18</td>\n",
       "      <td>Dhaka</td>\n",
       "      <td>84246.0</td>\n",
       "      <td>17968.0</td>\n",
       "      <td>560.0</td>\n",
       "      <td>2.04</td>\n",
       "      <td>...</td>\n",
       "      <td>Bengali</td>\n",
       "      <td>7180.0</td>\n",
       "      <td>0.58</td>\n",
       "      <td>1.673108e+08</td>\n",
       "      <td>5900.0</td>\n",
       "      <td>3340.0</td>\n",
       "      <td>419.0</td>\n",
       "      <td>60987417.0</td>\n",
       "      <td>23.684994</td>\n",
       "      <td>90.356331</td>\n",
       "    </tr>\n",
       "    <tr>\n",
       "      <th>143</th>\n",
       "      <td>Russia</td>\n",
       "      <td>9</td>\n",
       "      <td>1330.0</td>\n",
       "      <td>17098240.0</td>\n",
       "      <td>11.50</td>\n",
       "      <td>Moscow</td>\n",
       "      <td>1732027.0</td>\n",
       "      <td>18075.0</td>\n",
       "      <td>450.0</td>\n",
       "      <td>1.57</td>\n",
       "      <td>...</td>\n",
       "      <td>Russian</td>\n",
       "      <td>3640.0</td>\n",
       "      <td>4.01</td>\n",
       "      <td>1.443735e+08</td>\n",
       "      <td>6180.0</td>\n",
       "      <td>4620.0</td>\n",
       "      <td>459.0</td>\n",
       "      <td>107683889.0</td>\n",
       "      <td>61.524010</td>\n",
       "      <td>105.318756</td>\n",
       "    </tr>\n",
       "    <tr>\n",
       "      <th>85</th>\n",
       "      <td>Japan</td>\n",
       "      <td>347</td>\n",
       "      <td>1230.0</td>\n",
       "      <td>377944.0</td>\n",
       "      <td>7.40</td>\n",
       "      <td>Tokyo</td>\n",
       "      <td>1135886.0</td>\n",
       "      <td>10548.0</td>\n",
       "      <td>50.0</td>\n",
       "      <td>1.42</td>\n",
       "      <td>...</td>\n",
       "      <td>None</td>\n",
       "      <td>1310.0</td>\n",
       "      <td>2.41</td>\n",
       "      <td>1.262266e+08</td>\n",
       "      <td>6170.0</td>\n",
       "      <td>4670.0</td>\n",
       "      <td>229.0</td>\n",
       "      <td>115782416.0</td>\n",
       "      <td>36.204824</td>\n",
       "      <td>138.252924</td>\n",
       "    </tr>\n",
       "  </tbody>\n",
       "</table>\n",
       "<p>10 rows × 28 columns</p>\n",
       "</div>"
      ],
      "text/plain": [
       "           Country Density\\n(P/Km2)  Agricultural Land( %)  Land Area(Km2)  \\\n",
       "36           China              153                 5620.0       9596960.0   \n",
       "77           India              464                 6040.0       3287263.0   \n",
       "186  United States               36                 4440.0       9833517.0   \n",
       "78       Indonesia              151                 3150.0       1904569.0   \n",
       "131       Pakistan              287                 4780.0        796095.0   \n",
       "23          Brazil               25                 3390.0       8515770.0   \n",
       "126        Nigeria              226                 7770.0        923768.0   \n",
       "13      Bangladesh             1265                 7060.0        148460.0   \n",
       "143         Russia                9                 1330.0      17098240.0   \n",
       "85           Japan              347                 1230.0        377944.0   \n",
       "\n",
       "     Birth Rate Capital/Major City  Co2-Emissions      CPI  CPI Change (%)  \\\n",
       "36        10.90            Beijing      9893038.0  12508.0           290.0   \n",
       "77        17.86          New Delhi      2407672.0  18044.0           770.0   \n",
       "186       11.60      Washington DC      5006302.0  11724.0           750.0   \n",
       "78        18.07            Jakarta       563325.0  15118.0           300.0   \n",
       "131       28.25          Islamabad       201150.0  18232.0          1060.0   \n",
       "23        13.92            Bras���       462299.0   1674.0           370.0   \n",
       "126       37.91              Abuja       120369.0  26751.0          1140.0   \n",
       "13        18.18              Dhaka        84246.0  17968.0           560.0   \n",
       "143       11.50             Moscow      1732027.0  18075.0           450.0   \n",
       "85         7.40              Tokyo      1135886.0  10548.0            50.0   \n",
       "\n",
       "     Fertility Rate  ...  Official language  Out of pocket health expenditure  \\\n",
       "36             1.69  ...   Standard Chinese                            3240.0   \n",
       "77             2.22  ...              Hindi                            6510.0   \n",
       "186            1.73  ...               None                            1110.0   \n",
       "78             2.31  ...         Indonesian                            4830.0   \n",
       "131            3.51  ...               Urdu                            6650.0   \n",
       "23             1.73  ...         Portuguese                            2830.0   \n",
       "126            5.39  ...            English                            7220.0   \n",
       "13             2.04  ...            Bengali                            7180.0   \n",
       "143            1.57  ...            Russian                            3640.0   \n",
       "85             1.42  ...               None                            1310.0   \n",
       "\n",
       "     Physicians per thousand    Population  \\\n",
       "36                      1.98  1.397715e+09   \n",
       "77                      0.86  1.366418e+09   \n",
       "186                     2.61  3.282395e+08   \n",
       "78                      0.43  2.702039e+08   \n",
       "131                     0.98  2.165653e+08   \n",
       "23                      2.15  2.125594e+08   \n",
       "126                     0.38  2.009636e+08   \n",
       "13                      0.58  1.673108e+08   \n",
       "143                     4.01  1.443735e+08   \n",
       "85                      2.41  1.262266e+08   \n",
       "\n",
       "     Population: Labor force participation (%) Total tax rate  \\\n",
       "36                                      6800.0         5920.0   \n",
       "77                                      4930.0         4970.0   \n",
       "186                                     6200.0         3660.0   \n",
       "78                                      6750.0         3010.0   \n",
       "131                                     5260.0         3390.0   \n",
       "23                                      6390.0         6510.0   \n",
       "126                                     5290.0         3480.0   \n",
       "13                                      5900.0         3340.0   \n",
       "143                                     6180.0         4620.0   \n",
       "85                                      6170.0         4670.0   \n",
       "\n",
       "     Unemployment rate  Urban_population   Latitude   Longitude  \n",
       "36               432.0       842933962.0  35.861660  104.195397  \n",
       "77               536.0       471031528.0  20.593684   78.962880  \n",
       "186             1470.0       270663028.0  37.090240  -95.712891  \n",
       "78               469.0       151509724.0  -0.789275  113.921327  \n",
       "131              445.0        79927762.0  30.375321   69.345116  \n",
       "23              1208.0       183241641.0 -14.235004  -51.925280  \n",
       "126              810.0       102806948.0   9.081999    8.675277  \n",
       "13               419.0        60987417.0  23.684994   90.356331  \n",
       "143              459.0       107683889.0  61.524010  105.318756  \n",
       "85               229.0       115782416.0  36.204824  138.252924  \n",
       "\n",
       "[10 rows x 28 columns]"
      ]
     },
     "execution_count": 15,
     "metadata": {},
     "output_type": "execute_result"
    }
   ],
   "source": [
    "df_top = df.nlargest(10,'Population')\n",
    "df_top"
   ]
  },
  {
   "cell_type": "code",
   "execution_count": 18,
   "metadata": {},
   "outputs": [
    {
     "data": {
      "text/plain": [
       "<AxesSubplot:>"
      ]
     },
     "execution_count": 18,
     "metadata": {},
     "output_type": "execute_result"
    },
    {
     "data": {
      "image/png": "[encoded data removed]",
      "text/plain": [
       "<Figure size 640x480 with 1 Axes>"
      ]
     },
     "metadata": {},
     "output_type": "display_data"
    }
   ],
   "source": [
    "df['Population'].hist()"
   ]
  },
  {
   "cell_type": "code",
   "execution_count": 17,
   "metadata": {},
   "outputs": [
    {
     "data": {
      "application/vnd.plotly.v1+json": {
       "config": {
        "plotlyServerURL": "https://plot.ly"
       },
       "data": [
        {
         "hovertemplate": "Country=Afghanistan<br>Population=%{x}<br>GDP=%{y}<extra></extra>",
         "legendgroup": "Afghanistan",
         "marker": {
          "color": "#636efa",
          "symbol": "circle"
         },
         "mode": "markers",
         "name": "Afghanistan",
         "orientation": "v",
         "showlegend": true,
         "type": "scatter",
         "x": [
          38041754
         ],
         "xaxis": "x",
         "y": [
          19101353833
         ],
         "yaxis": "y"
        },
        {
         "hovertemplate": "Country=Albania<br>Population=%{x}<br>GDP=%{y}<extra></extra>",
         "legendgroup": "Albania",
         "marker": {
          "color": "#EF553B",
          "symbol": "circle"
         },
         "mode": "markers",
         "name": "Albania",
         "orientation": "v",
         "showlegend": true,
         "type": "scatter",
         "x": [
          2854191
         ],
         "xaxis": "x",
         "y": [
          15278077447
         ],
         "yaxis": "y"
        },
        {
         "hovertemplate": "Country=Algeria<br>Population=%{x}<br>GDP=%{y}<extra></extra>",
         "legendgroup": "Algeria",
         "marker": {
          "color": "#00cc96",
          "symbol": "circle"
         },
         "mode": "markers",
         "name": "Algeria",
         "orientation": "v",
         "showlegend": true,
         "type": "scatter",
         "x": [
          43053054
         ],
         "xaxis": "x",
         "y": [
          169988236398
         ],
         "yaxis": "y"
        },
        {
         "hovertemplate": "Country=Angola<br>Population=%{x}<br>GDP=%{y}<extra></extra>",
         "legendgroup": "Angola",
         "marker": {
          "color": "#ab63fa",
          "symbol": "circle"
         },
         "mode": "markers",
         "name": "Angola",
         "orientation": "v",
         "showlegend": true,
         "type": "scatter",
         "x": [
          31825295
         ],
         "xaxis": "x",
         "y": [
          94635415870
         ],
         "yaxis": "y"
        },
        {
         "hovertemplate": "Country=Antigua and Barbuda<br>Population=%{x}<br>GDP=%{y}<extra></extra>",
         "legendgroup": "Antigua and Barbuda",
         "marker": {
          "color": "#FFA15A",
          "symbol": "circle"
         },
         "mode": "markers",
         "name": "Antigua and Barbuda",
         "orientation": "v",
         "showlegend": true,
         "type": "scatter",
         "x": [
          97118
         ],
         "xaxis": "x",
         "y": [
          1727759259
         ],
         "yaxis": "y"
        },
        {
         "hovertemplate": "Country=Argentina<br>Population=%{x}<br>GDP=%{y}<extra></extra>",
         "legendgroup": "Argentina",
         "marker": {
          "color": "#19d3f3",
          "symbol": "circle"
         },
         "mode": "markers",
         "name": "Argentina",
         "orientation": "v",
         "showlegend": true,
         "type": "scatter",
         "x": [
          44938712
         ],
         "xaxis": "x",
         "y": [
          449663446954
         ],
         "yaxis": "y"
        },
        {
         "hovertemplate": "Country=Armenia<br>Population=%{x}<br>GDP=%{y}<extra></extra>",
         "legendgroup": "Armenia",
         "marker": {
          "color": "#FF6692",
          "symbol": "circle"
         },
         "mode": "markers",
         "name": "Armenia",
         "orientation": "v",
         "showlegend": true,
         "type": "scatter",
         "x": [
          2957731
         ],
         "xaxis": "x",
         "y": [
          13672802158
         ],
         "yaxis": "y"
        },
        {
         "hovertemplate": "Country=Australia<br>Population=%{x}<br>GDP=%{y}<extra></extra>",
         "legendgroup": "Australia",
         "marker": {
          "color": "#B6E880",
          "symbol": "circle"
         },
         "mode": "markers",
         "name": "Australia",
         "orientation": "v",
         "showlegend": true,
         "type": "scatter",
         "x": [
          25766605
         ],
         "xaxis": "x",
         "y": [
          1392680589329
         ],
         "yaxis": "y"
        },
        {
         "hovertemplate": "Country=Austria<br>Population=%{x}<br>GDP=%{y}<extra></extra>",
         "legendgroup": "Austria",
         "marker": {
          "color": "#FF97FF",
          "symbol": "circle"
         },
         "mode": "markers",
         "name": "Austria",
         "orientation": "v",
         "showlegend": true,
         "type": "scatter",
         "x": [
          8877067
         ],
         "xaxis": "x",
         "y": [
          446314739528
         ],
         "yaxis": "y"
        },
        {
         "hovertemplate": "Country=Azerbaijan<br>Population=%{x}<br>GDP=%{y}<extra></extra>",
         "legendgroup": "Azerbaijan",
         "marker": {
          "color": "#FECB52",
          "symbol": "circle"
         },
         "mode": "markers",
         "name": "Azerbaijan",
         "orientation": "v",
         "showlegend": true,
         "type": "scatter",
         "x": [
          10023318
         ],
         "xaxis": "x",
         "y": [
          39207000000
         ],
         "yaxis": "y"
        },
        {
         "hovertemplate": "Country=The Bahamas<br>Population=%{x}<br>GDP=%{y}<extra></extra>",
         "legendgroup": "The Bahamas",
         "marker": {
          "color": "#636efa",
          "symbol": "circle"
         },
         "mode": "markers",
         "name": "The Bahamas",
         "orientation": "v",
         "showlegend": true,
         "type": "scatter",
         "x": [
          389482
         ],
         "xaxis": "x",
         "y": [
          12827000000
         ],
         "yaxis": "y"
        },
        {
         "hovertemplate": "Country=Bahrain<br>Population=%{x}<br>GDP=%{y}<extra></extra>",
         "legendgroup": "Bahrain",
         "marker": {
          "color": "#EF553B",
          "symbol": "circle"
         },
         "mode": "markers",
         "name": "Bahrain",
         "orientation": "v",
         "showlegend": true,
         "type": "scatter",
         "x": [
          1501635
         ],
         "xaxis": "x",
         "y": [
          38574069149
         ],
         "yaxis": "y"
        },
        {
         "hovertemplate": "Country=Bangladesh<br>Population=%{x}<br>GDP=%{y}<extra></extra>",
         "legendgroup": "Bangladesh",
         "marker": {
          "color": "#00cc96",
          "symbol": "circle"
         },
         "mode": "markers",
         "name": "Bangladesh",
         "orientation": "v",
         "showlegend": true,
         "type": "scatter",
         "x": [
          167310838
         ],
         "xaxis": "x",
         "y": [
          302571254131
         ],
         "yaxis": "y"
        },
        {
         "hovertemplate": "Country=Barbados<br>Population=%{x}<br>GDP=%{y}<extra></extra>",
         "legendgroup": "Barbados",
         "marker": {
          "color": "#ab63fa",
          "symbol": "circle"
         },
         "mode": "markers",
         "name": "Barbados",
         "orientation": "v",
         "showlegend": true,
         "type": "scatter",
         "x": [
          287025
         ],
         "xaxis": "x",
         "y": [
          5209000000
         ],
         "yaxis": "y"
        },
        {
         "hovertemplate": "Country=Belarus<br>Population=%{x}<br>GDP=%{y}<extra></extra>",
         "legendgroup": "Belarus",
         "marker": {
          "color": "#FFA15A",
          "symbol": "circle"
         },
         "mode": "markers",
         "name": "Belarus",
         "orientation": "v",
         "showlegend": true,
         "type": "scatter",
         "x": [
          9466856
         ],
         "xaxis": "x",
         "y": [
          63080457023
         ],
         "yaxis": "y"
        },
        {
         "hovertemplate": "Country=Belgium<br>Population=%{x}<br>GDP=%{y}<extra></extra>",
         "legendgroup": "Belgium",
         "marker": {
          "color": "#19d3f3",
          "symbol": "circle"
         },
         "mode": "markers",
         "name": "Belgium",
         "orientation": "v",
         "showlegend": true,
         "type": "scatter",
         "x": [
          11484055
         ],
         "xaxis": "x",
         "y": [
          529606710418
         ],
         "yaxis": "y"
        },
        {
         "hovertemplate": "Country=Belize<br>Population=%{x}<br>GDP=%{y}<extra></extra>",
         "legendgroup": "Belize",
         "marker": {
          "color": "#FF6692",
          "symbol": "circle"
         },
         "mode": "markers",
         "name": "Belize",
         "orientation": "v",
         "showlegend": true,
         "type": "scatter",
         "x": [
          390353
         ],
         "xaxis": "x",
         "y": [
          1879613600
         ],
         "yaxis": "y"
        },
        {
         "hovertemplate": "Country=Benin<br>Population=%{x}<br>GDP=%{y}<extra></extra>",
         "legendgroup": "Benin",
         "marker": {
          "color": "#B6E880",
          "symbol": "circle"
         },
         "mode": "markers",
         "name": "Benin",
         "orientation": "v",
         "showlegend": true,
         "type": "scatter",
         "x": [
          11801151
         ],
         "xaxis": "x",
         "y": [
          14390709095
         ],
         "yaxis": "y"
        },
        {
         "hovertemplate": "Country=Bhutan<br>Population=%{x}<br>GDP=%{y}<extra></extra>",
         "legendgroup": "Bhutan",
         "marker": {
          "color": "#FF97FF",
          "symbol": "circle"
         },
         "mode": "markers",
         "name": "Bhutan",
         "orientation": "v",
         "showlegend": true,
         "type": "scatter",
         "x": [
          727145
         ],
         "xaxis": "x",
         "y": [
          2446674101
         ],
         "yaxis": "y"
        },
        {
         "hovertemplate": "Country=Bolivia<br>Population=%{x}<br>GDP=%{y}<extra></extra>",
         "legendgroup": "Bolivia",
         "marker": {
          "color": "#FECB52",
          "symbol": "circle"
         },
         "mode": "markers",
         "name": "Bolivia",
         "orientation": "v",
         "showlegend": true,
         "type": "scatter",
         "x": [
          11513100
         ],
         "xaxis": "x",
         "y": [
          40895322865
         ],
         "yaxis": "y"
        },
        {
         "hovertemplate": "Country=Bosnia and Herzegovina<br>Population=%{x}<br>GDP=%{y}<extra></extra>",
         "legendgroup": "Bosnia and Herzegovina",
         "marker": {
          "color": "#636efa",
          "symbol": "circle"
         },
         "mode": "markers",
         "name": "Bosnia and Herzegovina",
         "orientation": "v",
         "showlegend": true,
         "type": "scatter",
         "x": [
          3301000
         ],
         "xaxis": "x",
         "y": [
          20047848435
         ],
         "yaxis": "y"
        },
        {
         "hovertemplate": "Country=Botswana<br>Population=%{x}<br>GDP=%{y}<extra></extra>",
         "legendgroup": "Botswana",
         "marker": {
          "color": "#EF553B",
          "symbol": "circle"
         },
         "mode": "markers",
         "name": "Botswana",
         "orientation": "v",
         "showlegend": true,
         "type": "scatter",
         "x": [
          2346179
         ],
         "xaxis": "x",
         "y": [
          18340510789
         ],
         "yaxis": "y"
        },
        {
         "hovertemplate": "Country=Brazil<br>Population=%{x}<br>GDP=%{y}<extra></extra>",
         "legendgroup": "Brazil",
         "marker": {
          "color": "#00cc96",
          "symbol": "circle"
         },
         "mode": "markers",
         "name": "Brazil",
         "orientation": "v",
         "showlegend": true,
         "type": "scatter",
         "x": [
          212559417
         ],
         "xaxis": "x",
         "y": [
          1839758040766
         ],
         "yaxis": "y"
        },
        {
         "hovertemplate": "Country=Brunei<br>Population=%{x}<br>GDP=%{y}<extra></extra>",
         "legendgroup": "Brunei",
         "marker": {
          "color": "#ab63fa",
          "symbol": "circle"
         },
         "mode": "markers",
         "name": "Brunei",
         "orientation": "v",
         "showlegend": true,
         "type": "scatter",
         "x": [
          433285
         ],
         "xaxis": "x",
         "y": [
          13469422941
         ],
         "yaxis": "y"
        },
        {
         "hovertemplate": "Country=Bulgaria<br>Population=%{x}<br>GDP=%{y}<extra></extra>",
         "legendgroup": "Bulgaria",
         "marker": {
          "color": "#FFA15A",
          "symbol": "circle"
         },
         "mode": "markers",
         "name": "Bulgaria",
         "orientation": "v",
         "showlegend": true,
         "type": "scatter",
         "x": [
          6975761
         ],
         "xaxis": "x",
         "y": [
          86000000000
         ],
         "yaxis": "y"
        },
        {
         "hovertemplate": "Country=Burkina Faso<br>Population=%{x}<br>GDP=%{y}<extra></extra>",
         "legendgroup": "Burkina Faso",
         "marker": {
          "color": "#19d3f3",
          "symbol": "circle"
         },
         "mode": "markers",
         "name": "Burkina Faso",
         "orientation": "v",
         "showlegend": true,
         "type": "scatter",
         "x": [
          20321378
         ],
         "xaxis": "x",
         "y": [
          15745810235
         ],
         "yaxis": "y"
        },
        {
         "hovertemplate": "Country=Burundi<br>Population=%{x}<br>GDP=%{y}<extra></extra>",
         "legendgroup": "Burundi",
         "marker": {
          "color": "#FF6692",
          "symbol": "circle"
         },
         "mode": "markers",
         "name": "Burundi",
         "orientation": "v",
         "showlegend": true,
         "type": "scatter",
         "x": [
          11530580
         ],
         "xaxis": "x",
         "y": [
          3012334882
         ],
         "yaxis": "y"
        },
        {
         "hovertemplate": "Country=Ivory Coast<br>Population=%{x}<br>GDP=%{y}<extra></extra>",
         "legendgroup": "Ivory Coast",
         "marker": {
          "color": "#B6E880",
          "symbol": "circle"
         },
         "mode": "markers",
         "name": "Ivory Coast",
         "orientation": "v",
         "showlegend": true,
         "type": "scatter",
         "x": [
          25716544
         ],
         "xaxis": "x",
         "y": [
          58792205642
         ],
         "yaxis": "y"
        },
        {
         "hovertemplate": "Country=Cape Verde<br>Population=%{x}<br>GDP=%{y}<extra></extra>",
         "legendgroup": "Cape Verde",
         "marker": {
          "color": "#FF97FF",
          "symbol": "circle"
         },
         "mode": "markers",
         "name": "Cape Verde",
         "orientation": "v",
         "showlegend": true,
         "type": "scatter",
         "x": [
          483628
         ],
         "xaxis": "x",
         "y": [
          1981845741
         ],
         "yaxis": "y"
        },
        {
         "hovertemplate": "Country=Cambodia<br>Population=%{x}<br>GDP=%{y}<extra></extra>",
         "legendgroup": "Cambodia",
         "marker": {
          "color": "#FECB52",
          "symbol": "circle"
         },
         "mode": "markers",
         "name": "Cambodia",
         "orientation": "v",
         "showlegend": true,
         "type": "scatter",
         "x": [
          16486542
         ],
         "xaxis": "x",
         "y": [
          27089389787
         ],
         "yaxis": "y"
        },
        {
         "hovertemplate": "Country=Cameroon<br>Population=%{x}<br>GDP=%{y}<extra></extra>",
         "legendgroup": "Cameroon",
         "marker": {
          "color": "#636efa",
          "symbol": "circle"
         },
         "mode": "markers",
         "name": "Cameroon",
         "orientation": "v",
         "showlegend": true,
         "type": "scatter",
         "x": [
          25876380
         ],
         "xaxis": "x",
         "y": [
          38760467033
         ],
         "yaxis": "y"
        },
        {
         "hovertemplate": "Country=Canada<br>Population=%{x}<br>GDP=%{y}<extra></extra>",
         "legendgroup": "Canada",
         "marker": {
          "color": "#EF553B",
          "symbol": "circle"
         },
         "mode": "markers",
         "name": "Canada",
         "orientation": "v",
         "showlegend": true,
         "type": "scatter",
         "x": [
          36991981
         ],
         "xaxis": "x",
         "y": [
          1736425629520
         ],
         "yaxis": "y"
        },
        {
         "hovertemplate": "Country=Central African Republic<br>Population=%{x}<br>GDP=%{y}<extra></extra>",
         "legendgroup": "Central African Republic",
         "marker": {
          "color": "#00cc96",
          "symbol": "circle"
         },
         "mode": "markers",
         "name": "Central African Republic",
         "orientation": "v",
         "showlegend": true,
         "type": "scatter",
         "x": [
          4745185
         ],
         "xaxis": "x",
         "y": [
          2220307369
         ],
         "yaxis": "y"
        },
        {
         "hovertemplate": "Country=Chad<br>Population=%{x}<br>GDP=%{y}<extra></extra>",
         "legendgroup": "Chad",
         "marker": {
          "color": "#ab63fa",
          "symbol": "circle"
         },
         "mode": "markers",
         "name": "Chad",
         "orientation": "v",
         "showlegend": true,
         "type": "scatter",
         "x": [
          15946876
         ],
         "xaxis": "x",
         "y": [
          11314951343
         ],
         "yaxis": "y"
        },
        {
         "hovertemplate": "Country=Chile<br>Population=%{x}<br>GDP=%{y}<extra></extra>",
         "legendgroup": "Chile",
         "marker": {
          "color": "#FFA15A",
          "symbol": "circle"
         },
         "mode": "markers",
         "name": "Chile",
         "orientation": "v",
         "showlegend": true,
         "type": "scatter",
         "x": [
          18952038
         ],
         "xaxis": "x",
         "y": [
          282318159745
         ],
         "yaxis": "y"
        },
        {
         "hovertemplate": "Country=China<br>Population=%{x}<br>GDP=%{y}<extra></extra>",
         "legendgroup": "China",
         "marker": {
          "color": "#19d3f3",
          "symbol": "circle"
         },
         "mode": "markers",
         "name": "China",
         "orientation": "v",
         "showlegend": true,
         "type": "scatter",
         "x": [
          1397715000
         ],
         "xaxis": "x",
         "y": [
          19910000000000
         ],
         "yaxis": "y"
        },
        {
         "hovertemplate": "Country=Colombia<br>Population=%{x}<br>GDP=%{y}<extra></extra>",
         "legendgroup": "Colombia",
         "marker": {
          "color": "#FF6692",
          "symbol": "circle"
         },
         "mode": "markers",
         "name": "Colombia",
         "orientation": "v",
         "showlegend": true,
         "type": "scatter",
         "x": [
          50339443
         ],
         "xaxis": "x",
         "y": [
          323802808108
         ],
         "yaxis": "y"
        },
        {
         "hovertemplate": "Country=Comoros<br>Population=%{x}<br>GDP=%{y}<extra></extra>",
         "legendgroup": "Comoros",
         "marker": {
          "color": "#B6E880",
          "symbol": "circle"
         },
         "mode": "markers",
         "name": "Comoros",
         "orientation": "v",
         "showlegend": true,
         "type": "scatter",
         "x": [
          850886
         ],
         "xaxis": "x",
         "y": [
          1185728677
         ],
         "yaxis": "y"
        },
        {
         "hovertemplate": "Country=Republic of the Congo<br>Population=%{x}<br>GDP=%{y}<extra></extra>",
         "legendgroup": "Republic of the Congo",
         "marker": {
          "color": "#FF97FF",
          "symbol": "circle"
         },
         "mode": "markers",
         "name": "Republic of the Congo",
         "orientation": "v",
         "showlegend": true,
         "type": "scatter",
         "x": [
          5380508
         ],
         "xaxis": "x",
         "y": [
          10820591131
         ],
         "yaxis": "y"
        },
        {
         "hovertemplate": "Country=Costa Rica<br>Population=%{x}<br>GDP=%{y}<extra></extra>",
         "legendgroup": "Costa Rica",
         "marker": {
          "color": "#FECB52",
          "symbol": "circle"
         },
         "mode": "markers",
         "name": "Costa Rica",
         "orientation": "v",
         "showlegend": true,
         "type": "scatter",
         "x": [
          5047561
         ],
         "xaxis": "x",
         "y": [
          61773944174
         ],
         "yaxis": "y"
        },
        {
         "hovertemplate": "Country=Croatia<br>Population=%{x}<br>GDP=%{y}<extra></extra>",
         "legendgroup": "Croatia",
         "marker": {
          "color": "#636efa",
          "symbol": "circle"
         },
         "mode": "markers",
         "name": "Croatia",
         "orientation": "v",
         "showlegend": true,
         "type": "scatter",
         "x": [
          4067500
         ],
         "xaxis": "x",
         "y": [
          60415553039
         ],
         "yaxis": "y"
        },
        {
         "hovertemplate": "Country=Cuba<br>Population=%{x}<br>GDP=%{y}<extra></extra>",
         "legendgroup": "Cuba",
         "marker": {
          "color": "#EF553B",
          "symbol": "circle"
         },
         "mode": "markers",
         "name": "Cuba",
         "orientation": "v",
         "showlegend": true,
         "type": "scatter",
         "x": [
          11333483
         ],
         "xaxis": "x",
         "y": [
          100023000000
         ],
         "yaxis": "y"
        },
        {
         "hovertemplate": "Country=Cyprus<br>Population=%{x}<br>GDP=%{y}<extra></extra>",
         "legendgroup": "Cyprus",
         "marker": {
          "color": "#00cc96",
          "symbol": "circle"
         },
         "mode": "markers",
         "name": "Cyprus",
         "orientation": "v",
         "showlegend": true,
         "type": "scatter",
         "x": [
          1198575
         ],
         "xaxis": "x",
         "y": [
          24564647935
         ],
         "yaxis": "y"
        },
        {
         "hovertemplate": "Country=Czech Republic<br>Population=%{x}<br>GDP=%{y}<extra></extra>",
         "legendgroup": "Czech Republic",
         "marker": {
          "color": "#ab63fa",
          "symbol": "circle"
         },
         "mode": "markers",
         "name": "Czech Republic",
         "orientation": "v",
         "showlegend": true,
         "type": "scatter",
         "x": [
          10669709
         ],
         "xaxis": "x",
         "y": [
          246489245495
         ],
         "yaxis": "y"
        },
        {
         "hovertemplate": "Country=Democratic Republic of the Congo<br>Population=%{x}<br>GDP=%{y}<extra></extra>",
         "legendgroup": "Democratic Republic of the Congo",
         "marker": {
          "color": "#FFA15A",
          "symbol": "circle"
         },
         "mode": "markers",
         "name": "Democratic Republic of the Congo",
         "orientation": "v",
         "showlegend": true,
         "type": "scatter",
         "x": [
          86790567
         ],
         "xaxis": "x",
         "y": [
          47319624204
         ],
         "yaxis": "y"
        },
        {
         "hovertemplate": "Country=Denmark<br>Population=%{x}<br>GDP=%{y}<extra></extra>",
         "legendgroup": "Denmark",
         "marker": {
          "color": "#19d3f3",
          "symbol": "circle"
         },
         "mode": "markers",
         "name": "Denmark",
         "orientation": "v",
         "showlegend": true,
         "type": "scatter",
         "x": [
          5818553
         ],
         "xaxis": "x",
         "y": [
          348078018464
         ],
         "yaxis": "y"
        },
        {
         "hovertemplate": "Country=Djibouti<br>Population=%{x}<br>GDP=%{y}<extra></extra>",
         "legendgroup": "Djibouti",
         "marker": {
          "color": "#FF6692",
          "symbol": "circle"
         },
         "mode": "markers",
         "name": "Djibouti",
         "orientation": "v",
         "showlegend": true,
         "type": "scatter",
         "x": [
          973560
         ],
         "xaxis": "x",
         "y": [
          3318716359
         ],
         "yaxis": "y"
        },
        {
         "hovertemplate": "Country=Dominica<br>Population=%{x}<br>GDP=%{y}<extra></extra>",
         "legendgroup": "Dominica",
         "marker": {
          "color": "#B6E880",
          "symbol": "circle"
         },
         "mode": "markers",
         "name": "Dominica",
         "orientation": "v",
         "showlegend": true,
         "type": "scatter",
         "x": [
          71808
         ],
         "xaxis": "x",
         "y": [
          596033333
         ],
         "yaxis": "y"
        },
        {
         "hovertemplate": "Country=Dominican Republic<br>Population=%{x}<br>GDP=%{y}<extra></extra>",
         "legendgroup": "Dominican Republic",
         "marker": {
          "color": "#FF97FF",
          "symbol": "circle"
         },
         "mode": "markers",
         "name": "Dominican Republic",
         "orientation": "v",
         "showlegend": true,
         "type": "scatter",
         "x": [
          10738958
         ],
         "xaxis": "x",
         "y": [
          88941298258
         ],
         "yaxis": "y"
        },
        {
         "hovertemplate": "Country=Ecuador<br>Population=%{x}<br>GDP=%{y}<extra></extra>",
         "legendgroup": "Ecuador",
         "marker": {
          "color": "#FECB52",
          "symbol": "circle"
         },
         "mode": "markers",
         "name": "Ecuador",
         "orientation": "v",
         "showlegend": true,
         "type": "scatter",
         "x": [
          17373662
         ],
         "xaxis": "x",
         "y": [
          107435665000
         ],
         "yaxis": "y"
        },
        {
         "hovertemplate": "Country=Egypt<br>Population=%{x}<br>GDP=%{y}<extra></extra>",
         "legendgroup": "Egypt",
         "marker": {
          "color": "#636efa",
          "symbol": "circle"
         },
         "mode": "markers",
         "name": "Egypt",
         "orientation": "v",
         "showlegend": true,
         "type": "scatter",
         "x": [
          100388073
         ],
         "xaxis": "x",
         "y": [
          303175127598
         ],
         "yaxis": "y"
        },
        {
         "hovertemplate": "Country=El Salvador<br>Population=%{x}<br>GDP=%{y}<extra></extra>",
         "legendgroup": "El Salvador",
         "marker": {
          "color": "#EF553B",
          "symbol": "circle"
         },
         "mode": "markers",
         "name": "El Salvador",
         "orientation": "v",
         "showlegend": true,
         "type": "scatter",
         "x": [
          6453553
         ],
         "xaxis": "x",
         "y": [
          27022640000
         ],
         "yaxis": "y"
        },
        {
         "hovertemplate": "Country=Equatorial Guinea<br>Population=%{x}<br>GDP=%{y}<extra></extra>",
         "legendgroup": "Equatorial Guinea",
         "marker": {
          "color": "#00cc96",
          "symbol": "circle"
         },
         "mode": "markers",
         "name": "Equatorial Guinea",
         "orientation": "v",
         "showlegend": true,
         "type": "scatter",
         "x": [
          1355986
         ],
         "xaxis": "x",
         "y": [
          11026774945
         ],
         "yaxis": "y"
        },
        {
         "hovertemplate": "Country=Eritrea<br>Population=%{x}<br>GDP=%{y}<extra></extra>",
         "legendgroup": "Eritrea",
         "marker": {
          "color": "#ab63fa",
          "symbol": "circle"
         },
         "mode": "markers",
         "name": "Eritrea",
         "orientation": "v",
         "showlegend": true,
         "type": "scatter",
         "x": [
          6333135
         ],
         "xaxis": "x",
         "y": [
          2065001626
         ],
         "yaxis": "y"
        },
        {
         "hovertemplate": "Country=Estonia<br>Population=%{x}<br>GDP=%{y}<extra></extra>",
         "legendgroup": "Estonia",
         "marker": {
          "color": "#FFA15A",
          "symbol": "circle"
         },
         "mode": "markers",
         "name": "Estonia",
         "orientation": "v",
         "showlegend": true,
         "type": "scatter",
         "x": [
          1331824
         ],
         "xaxis": "x",
         "y": [
          31386949981
         ],
         "yaxis": "y"
        },
        {
         "hovertemplate": "Country=Ethiopia<br>Population=%{x}<br>GDP=%{y}<extra></extra>",
         "legendgroup": "Ethiopia",
         "marker": {
          "color": "#19d3f3",
          "symbol": "circle"
         },
         "mode": "markers",
         "name": "Ethiopia",
         "orientation": "v",
         "showlegend": true,
         "type": "scatter",
         "x": [
          112078730
         ],
         "xaxis": "x",
         "y": [
          96107662398
         ],
         "yaxis": "y"
        },
        {
         "hovertemplate": "Country=Fiji<br>Population=%{x}<br>GDP=%{y}<extra></extra>",
         "legendgroup": "Fiji",
         "marker": {
          "color": "#FF6692",
          "symbol": "circle"
         },
         "mode": "markers",
         "name": "Fiji",
         "orientation": "v",
         "showlegend": true,
         "type": "scatter",
         "x": [
          889953
         ],
         "xaxis": "x",
         "y": [
          5535548972
         ],
         "yaxis": "y"
        },
        {
         "hovertemplate": "Country=Finland<br>Population=%{x}<br>GDP=%{y}<extra></extra>",
         "legendgroup": "Finland",
         "marker": {
          "color": "#B6E880",
          "symbol": "circle"
         },
         "mode": "markers",
         "name": "Finland",
         "orientation": "v",
         "showlegend": true,
         "type": "scatter",
         "x": [
          5520314
         ],
         "xaxis": "x",
         "y": [
          268761201365
         ],
         "yaxis": "y"
        },
        {
         "hovertemplate": "Country=France<br>Population=%{x}<br>GDP=%{y}<extra></extra>",
         "legendgroup": "France",
         "marker": {
          "color": "#FF97FF",
          "symbol": "circle"
         },
         "mode": "markers",
         "name": "France",
         "orientation": "v",
         "showlegend": true,
         "type": "scatter",
         "x": [
          67059887
         ],
         "xaxis": "x",
         "y": [
          2715518274227
         ],
         "yaxis": "y"
        },
        {
         "hovertemplate": "Country=Gabon<br>Population=%{x}<br>GDP=%{y}<extra></extra>",
         "legendgroup": "Gabon",
         "marker": {
          "color": "#FECB52",
          "symbol": "circle"
         },
         "mode": "markers",
         "name": "Gabon",
         "orientation": "v",
         "showlegend": true,
         "type": "scatter",
         "x": [
          2172579
         ],
         "xaxis": "x",
         "y": [
          16657960228
         ],
         "yaxis": "y"
        },
        {
         "hovertemplate": "Country=The Gambia<br>Population=%{x}<br>GDP=%{y}<extra></extra>",
         "legendgroup": "The Gambia",
         "marker": {
          "color": "#636efa",
          "symbol": "circle"
         },
         "mode": "markers",
         "name": "The Gambia",
         "orientation": "v",
         "showlegend": true,
         "type": "scatter",
         "x": [
          2347706
         ],
         "xaxis": "x",
         "y": [
          1763819048
         ],
         "yaxis": "y"
        },
        {
         "hovertemplate": "Country=Georgia<br>Population=%{x}<br>GDP=%{y}<extra></extra>",
         "legendgroup": "Georgia",
         "marker": {
          "color": "#EF553B",
          "symbol": "circle"
         },
         "mode": "markers",
         "name": "Georgia",
         "orientation": "v",
         "showlegend": true,
         "type": "scatter",
         "x": [
          3720382
         ],
         "xaxis": "x",
         "y": [
          17743195770
         ],
         "yaxis": "y"
        },
        {
         "hovertemplate": "Country=Germany<br>Population=%{x}<br>GDP=%{y}<extra></extra>",
         "legendgroup": "Germany",
         "marker": {
          "color": "#00cc96",
          "symbol": "circle"
         },
         "mode": "markers",
         "name": "Germany",
         "orientation": "v",
         "showlegend": true,
         "type": "scatter",
         "x": [
          83132799
         ],
         "xaxis": "x",
         "y": [
          3845630030824
         ],
         "yaxis": "y"
        },
        {
         "hovertemplate": "Country=Ghana<br>Population=%{x}<br>GDP=%{y}<extra></extra>",
         "legendgroup": "Ghana",
         "marker": {
          "color": "#ab63fa",
          "symbol": "circle"
         },
         "mode": "markers",
         "name": "Ghana",
         "orientation": "v",
         "showlegend": true,
         "type": "scatter",
         "x": [
          30792608
         ],
         "xaxis": "x",
         "y": [
          66983634224
         ],
         "yaxis": "y"
        },
        {
         "hovertemplate": "Country=Greece<br>Population=%{x}<br>GDP=%{y}<extra></extra>",
         "legendgroup": "Greece",
         "marker": {
          "color": "#FFA15A",
          "symbol": "circle"
         },
         "mode": "markers",
         "name": "Greece",
         "orientation": "v",
         "showlegend": true,
         "type": "scatter",
         "x": [
          10716322
         ],
         "xaxis": "x",
         "y": [
          209852761469
         ],
         "yaxis": "y"
        },
        {
         "hovertemplate": "Country=Grenada<br>Population=%{x}<br>GDP=%{y}<extra></extra>",
         "legendgroup": "Grenada",
         "marker": {
          "color": "#19d3f3",
          "symbol": "circle"
         },
         "mode": "markers",
         "name": "Grenada",
         "orientation": "v",
         "showlegend": true,
         "type": "scatter",
         "x": [
          112003
         ],
         "xaxis": "x",
         "y": [
          1228170370
         ],
         "yaxis": "y"
        },
        {
         "hovertemplate": "Country=Guatemala<br>Population=%{x}<br>GDP=%{y}<extra></extra>",
         "legendgroup": "Guatemala",
         "marker": {
          "color": "#FF6692",
          "symbol": "circle"
         },
         "mode": "markers",
         "name": "Guatemala",
         "orientation": "v",
         "showlegend": true,
         "type": "scatter",
         "x": [
          16604026
         ],
         "xaxis": "x",
         "y": [
          76710385880
         ],
         "yaxis": "y"
        },
        {
         "hovertemplate": "Country=Guinea<br>Population=%{x}<br>GDP=%{y}<extra></extra>",
         "legendgroup": "Guinea",
         "marker": {
          "color": "#B6E880",
          "symbol": "circle"
         },
         "mode": "markers",
         "name": "Guinea",
         "orientation": "v",
         "showlegend": true,
         "type": "scatter",
         "x": [
          12771246
         ],
         "xaxis": "x",
         "y": [
          13590281809
         ],
         "yaxis": "y"
        },
        {
         "hovertemplate": "Country=Guinea-Bissau<br>Population=%{x}<br>GDP=%{y}<extra></extra>",
         "legendgroup": "Guinea-Bissau",
         "marker": {
          "color": "#FF97FF",
          "symbol": "circle"
         },
         "mode": "markers",
         "name": "Guinea-Bissau",
         "orientation": "v",
         "showlegend": true,
         "type": "scatter",
         "x": [
          1920922
         ],
         "xaxis": "x",
         "y": [
          1340389411
         ],
         "yaxis": "y"
        },
        {
         "hovertemplate": "Country=Guyana<br>Population=%{x}<br>GDP=%{y}<extra></extra>",
         "legendgroup": "Guyana",
         "marker": {
          "color": "#FECB52",
          "symbol": "circle"
         },
         "mode": "markers",
         "name": "Guyana",
         "orientation": "v",
         "showlegend": true,
         "type": "scatter",
         "x": [
          782766
         ],
         "xaxis": "x",
         "y": [
          4280443645
         ],
         "yaxis": "y"
        },
        {
         "hovertemplate": "Country=Haiti<br>Population=%{x}<br>GDP=%{y}<extra></extra>",
         "legendgroup": "Haiti",
         "marker": {
          "color": "#636efa",
          "symbol": "circle"
         },
         "mode": "markers",
         "name": "Haiti",
         "orientation": "v",
         "showlegend": true,
         "type": "scatter",
         "x": [
          11263077
         ],
         "xaxis": "x",
         "y": [
          8498981821
         ],
         "yaxis": "y"
        },
        {
         "hovertemplate": "Country=Honduras<br>Population=%{x}<br>GDP=%{y}<extra></extra>",
         "legendgroup": "Honduras",
         "marker": {
          "color": "#EF553B",
          "symbol": "circle"
         },
         "mode": "markers",
         "name": "Honduras",
         "orientation": "v",
         "showlegend": true,
         "type": "scatter",
         "x": [
          9746117
         ],
         "xaxis": "x",
         "y": [
          25095395475
         ],
         "yaxis": "y"
        },
        {
         "hovertemplate": "Country=Hungary<br>Population=%{x}<br>GDP=%{y}<extra></extra>",
         "legendgroup": "Hungary",
         "marker": {
          "color": "#00cc96",
          "symbol": "circle"
         },
         "mode": "markers",
         "name": "Hungary",
         "orientation": "v",
         "showlegend": true,
         "type": "scatter",
         "x": [
          9769949
         ],
         "xaxis": "x",
         "y": [
          160967157504
         ],
         "yaxis": "y"
        },
        {
         "hovertemplate": "Country=Iceland<br>Population=%{x}<br>GDP=%{y}<extra></extra>",
         "legendgroup": "Iceland",
         "marker": {
          "color": "#ab63fa",
          "symbol": "circle"
         },
         "mode": "markers",
         "name": "Iceland",
         "orientation": "v",
         "showlegend": true,
         "type": "scatter",
         "x": [
          361313
         ],
         "xaxis": "x",
         "y": [
          24188035739
         ],
         "yaxis": "y"
        },
        {
         "hovertemplate": "Country=India<br>Population=%{x}<br>GDP=%{y}<extra></extra>",
         "legendgroup": "India",
         "marker": {
          "color": "#FFA15A",
          "symbol": "circle"
         },
         "mode": "markers",
         "name": "India",
         "orientation": "v",
         "showlegend": true,
         "type": "scatter",
         "x": [
          1366417754
         ],
         "xaxis": "x",
         "y": [
          2611000000000
         ],
         "yaxis": "y"
        },
        {
         "hovertemplate": "Country=Indonesia<br>Population=%{x}<br>GDP=%{y}<extra></extra>",
         "legendgroup": "Indonesia",
         "marker": {
          "color": "#19d3f3",
          "symbol": "circle"
         },
         "mode": "markers",
         "name": "Indonesia",
         "orientation": "v",
         "showlegend": true,
         "type": "scatter",
         "x": [
          270203917
         ],
         "xaxis": "x",
         "y": [
          1119190780753
         ],
         "yaxis": "y"
        },
        {
         "hovertemplate": "Country=Iran<br>Population=%{x}<br>GDP=%{y}<extra></extra>",
         "legendgroup": "Iran",
         "marker": {
          "color": "#FF6692",
          "symbol": "circle"
         },
         "mode": "markers",
         "name": "Iran",
         "orientation": "v",
         "showlegend": true,
         "type": "scatter",
         "x": [
          82913906
         ],
         "xaxis": "x",
         "y": [
          445345282123
         ],
         "yaxis": "y"
        },
        {
         "hovertemplate": "Country=Iraq<br>Population=%{x}<br>GDP=%{y}<extra></extra>",
         "legendgroup": "Iraq",
         "marker": {
          "color": "#B6E880",
          "symbol": "circle"
         },
         "mode": "markers",
         "name": "Iraq",
         "orientation": "v",
         "showlegend": true,
         "type": "scatter",
         "x": [
          39309783
         ],
         "xaxis": "x",
         "y": [
          234094042939
         ],
         "yaxis": "y"
        },
        {
         "hovertemplate": "Country=Republic of Ireland<br>Population=%{x}<br>GDP=%{y}<extra></extra>",
         "legendgroup": "Republic of Ireland",
         "marker": {
          "color": "#FF97FF",
          "symbol": "circle"
         },
         "mode": "markers",
         "name": "Republic of Ireland",
         "orientation": "v",
         "showlegend": true,
         "type": "scatter",
         "x": [
          5007069
         ],
         "xaxis": "x",
         "y": [
          388698711348
         ],
         "yaxis": "y"
        },
        {
         "hovertemplate": "Country=Israel<br>Population=%{x}<br>GDP=%{y}<extra></extra>",
         "legendgroup": "Israel",
         "marker": {
          "color": "#FECB52",
          "symbol": "circle"
         },
         "mode": "markers",
         "name": "Israel",
         "orientation": "v",
         "showlegend": true,
         "type": "scatter",
         "x": [
          9053300
         ],
         "xaxis": "x",
         "y": [
          395098666122
         ],
         "yaxis": "y"
        },
        {
         "hovertemplate": "Country=Italy<br>Population=%{x}<br>GDP=%{y}<extra></extra>",
         "legendgroup": "Italy",
         "marker": {
          "color": "#636efa",
          "symbol": "circle"
         },
         "mode": "markers",
         "name": "Italy",
         "orientation": "v",
         "showlegend": true,
         "type": "scatter",
         "x": [
          60297396
         ],
         "xaxis": "x",
         "y": [
          2001244392042
         ],
         "yaxis": "y"
        },
        {
         "hovertemplate": "Country=Jamaica<br>Population=%{x}<br>GDP=%{y}<extra></extra>",
         "legendgroup": "Jamaica",
         "marker": {
          "color": "#EF553B",
          "symbol": "circle"
         },
         "mode": "markers",
         "name": "Jamaica",
         "orientation": "v",
         "showlegend": true,
         "type": "scatter",
         "x": [
          2948279
         ],
         "xaxis": "x",
         "y": [
          16458071068
         ],
         "yaxis": "y"
        },
        {
         "hovertemplate": "Country=Japan<br>Population=%{x}<br>GDP=%{y}<extra></extra>",
         "legendgroup": "Japan",
         "marker": {
          "color": "#00cc96",
          "symbol": "circle"
         },
         "mode": "markers",
         "name": "Japan",
         "orientation": "v",
         "showlegend": true,
         "type": "scatter",
         "x": [
          126226568
         ],
         "xaxis": "x",
         "y": [
          5081769542380
         ],
         "yaxis": "y"
        },
        {
         "hovertemplate": "Country=Jordan<br>Population=%{x}<br>GDP=%{y}<extra></extra>",
         "legendgroup": "Jordan",
         "marker": {
          "color": "#ab63fa",
          "symbol": "circle"
         },
         "mode": "markers",
         "name": "Jordan",
         "orientation": "v",
         "showlegend": true,
         "type": "scatter",
         "x": [
          10101694
         ],
         "xaxis": "x",
         "y": [
          43743661972
         ],
         "yaxis": "y"
        },
        {
         "hovertemplate": "Country=Kazakhstan<br>Population=%{x}<br>GDP=%{y}<extra></extra>",
         "legendgroup": "Kazakhstan",
         "marker": {
          "color": "#FFA15A",
          "symbol": "circle"
         },
         "mode": "markers",
         "name": "Kazakhstan",
         "orientation": "v",
         "showlegend": true,
         "type": "scatter",
         "x": [
          18513930
         ],
         "xaxis": "x",
         "y": [
          180161741180
         ],
         "yaxis": "y"
        },
        {
         "hovertemplate": "Country=Kenya<br>Population=%{x}<br>GDP=%{y}<extra></extra>",
         "legendgroup": "Kenya",
         "marker": {
          "color": "#19d3f3",
          "symbol": "circle"
         },
         "mode": "markers",
         "name": "Kenya",
         "orientation": "v",
         "showlegend": true,
         "type": "scatter",
         "x": [
          52573973
         ],
         "xaxis": "x",
         "y": [
          95503088538
         ],
         "yaxis": "y"
        },
        {
         "hovertemplate": "Country=Kiribati<br>Population=%{x}<br>GDP=%{y}<extra></extra>",
         "legendgroup": "Kiribati",
         "marker": {
          "color": "#FF6692",
          "symbol": "circle"
         },
         "mode": "markers",
         "name": "Kiribati",
         "orientation": "v",
         "showlegend": true,
         "type": "scatter",
         "x": [
          117606
         ],
         "xaxis": "x",
         "y": [
          194647202
         ],
         "yaxis": "y"
        },
        {
         "hovertemplate": "Country=Kuwait<br>Population=%{x}<br>GDP=%{y}<extra></extra>",
         "legendgroup": "Kuwait",
         "marker": {
          "color": "#B6E880",
          "symbol": "circle"
         },
         "mode": "markers",
         "name": "Kuwait",
         "orientation": "v",
         "showlegend": true,
         "type": "scatter",
         "x": [
          4207083
         ],
         "xaxis": "x",
         "y": [
          134761198946
         ],
         "yaxis": "y"
        },
        {
         "hovertemplate": "Country=Kyrgyzstan<br>Population=%{x}<br>GDP=%{y}<extra></extra>",
         "legendgroup": "Kyrgyzstan",
         "marker": {
          "color": "#FF97FF",
          "symbol": "circle"
         },
         "mode": "markers",
         "name": "Kyrgyzstan",
         "orientation": "v",
         "showlegend": true,
         "type": "scatter",
         "x": [
          6456900
         ],
         "xaxis": "x",
         "y": [
          8454619608
         ],
         "yaxis": "y"
        },
        {
         "hovertemplate": "Country=Laos<br>Population=%{x}<br>GDP=%{y}<extra></extra>",
         "legendgroup": "Laos",
         "marker": {
          "color": "#FECB52",
          "symbol": "circle"
         },
         "mode": "markers",
         "name": "Laos",
         "orientation": "v",
         "showlegend": true,
         "type": "scatter",
         "x": [
          7169455
         ],
         "xaxis": "x",
         "y": [
          18173839128
         ],
         "yaxis": "y"
        },
        {
         "hovertemplate": "Country=Latvia<br>Population=%{x}<br>GDP=%{y}<extra></extra>",
         "legendgroup": "Latvia",
         "marker": {
          "color": "#636efa",
          "symbol": "circle"
         },
         "mode": "markers",
         "name": "Latvia",
         "orientation": "v",
         "showlegend": true,
         "type": "scatter",
         "x": [
          1912789
         ],
         "xaxis": "x",
         "y": [
          34117202555
         ],
         "yaxis": "y"
        },
        {
         "hovertemplate": "Country=Lebanon<br>Population=%{x}<br>GDP=%{y}<extra></extra>",
         "legendgroup": "Lebanon",
         "marker": {
          "color": "#EF553B",
          "symbol": "circle"
         },
         "mode": "markers",
         "name": "Lebanon",
         "orientation": "v",
         "showlegend": true,
         "type": "scatter",
         "x": [
          6855713
         ],
         "xaxis": "x",
         "y": [
          53367042272
         ],
         "yaxis": "y"
        },
        {
         "hovertemplate": "Country=Lesotho<br>Population=%{x}<br>GDP=%{y}<extra></extra>",
         "legendgroup": "Lesotho",
         "marker": {
          "color": "#00cc96",
          "symbol": "circle"
         },
         "mode": "markers",
         "name": "Lesotho",
         "orientation": "v",
         "showlegend": true,
         "type": "scatter",
         "x": [
          2125268
         ],
         "xaxis": "x",
         "y": [
          2460072444
         ],
         "yaxis": "y"
        },
        {
         "hovertemplate": "Country=Liberia<br>Population=%{x}<br>GDP=%{y}<extra></extra>",
         "legendgroup": "Liberia",
         "marker": {
          "color": "#ab63fa",
          "symbol": "circle"
         },
         "mode": "markers",
         "name": "Liberia",
         "orientation": "v",
         "showlegend": true,
         "type": "scatter",
         "x": [
          4937374
         ],
         "xaxis": "x",
         "y": [
          3070518100
         ],
         "yaxis": "y"
        },
        {
         "hovertemplate": "Country=Libya<br>Population=%{x}<br>GDP=%{y}<extra></extra>",
         "legendgroup": "Libya",
         "marker": {
          "color": "#FFA15A",
          "symbol": "circle"
         },
         "mode": "markers",
         "name": "Libya",
         "orientation": "v",
         "showlegend": true,
         "type": "scatter",
         "x": [
          6777452
         ],
         "xaxis": "x",
         "y": [
          52076250948
         ],
         "yaxis": "y"
        },
        {
         "hovertemplate": "Country=Lithuania<br>Population=%{x}<br>GDP=%{y}<extra></extra>",
         "legendgroup": "Lithuania",
         "marker": {
          "color": "#19d3f3",
          "symbol": "circle"
         },
         "mode": "markers",
         "name": "Lithuania",
         "orientation": "v",
         "showlegend": true,
         "type": "scatter",
         "x": [
          2786844
         ],
         "xaxis": "x",
         "y": [
          54219315600
         ],
         "yaxis": "y"
        },
        {
         "hovertemplate": "Country=Luxembourg<br>Population=%{x}<br>GDP=%{y}<extra></extra>",
         "legendgroup": "Luxembourg",
         "marker": {
          "color": "#FF6692",
          "symbol": "circle"
         },
         "mode": "markers",
         "name": "Luxembourg",
         "orientation": "v",
         "showlegend": true,
         "type": "scatter",
         "x": [
          645397
         ],
         "xaxis": "x",
         "y": [
          71104919108
         ],
         "yaxis": "y"
        },
        {
         "hovertemplate": "Country=Madagascar<br>Population=%{x}<br>GDP=%{y}<extra></extra>",
         "legendgroup": "Madagascar",
         "marker": {
          "color": "#B6E880",
          "symbol": "circle"
         },
         "mode": "markers",
         "name": "Madagascar",
         "orientation": "v",
         "showlegend": true,
         "type": "scatter",
         "x": [
          26969307
         ],
         "xaxis": "x",
         "y": [
          14083906357
         ],
         "yaxis": "y"
        },
        {
         "hovertemplate": "Country=Malawi<br>Population=%{x}<br>GDP=%{y}<extra></extra>",
         "legendgroup": "Malawi",
         "marker": {
          "color": "#FF97FF",
          "symbol": "circle"
         },
         "mode": "markers",
         "name": "Malawi",
         "orientation": "v",
         "showlegend": true,
         "type": "scatter",
         "x": [
          18628747
         ],
         "xaxis": "x",
         "y": [
          7666704427
         ],
         "yaxis": "y"
        },
        {
         "hovertemplate": "Country=Malaysia<br>Population=%{x}<br>GDP=%{y}<extra></extra>",
         "legendgroup": "Malaysia",
         "marker": {
          "color": "#FECB52",
          "symbol": "circle"
         },
         "mode": "markers",
         "name": "Malaysia",
         "orientation": "v",
         "showlegend": true,
         "type": "scatter",
         "x": [
          32447385
         ],
         "xaxis": "x",
         "y": [
          364701517788
         ],
         "yaxis": "y"
        },
        {
         "hovertemplate": "Country=Maldives<br>Population=%{x}<br>GDP=%{y}<extra></extra>",
         "legendgroup": "Maldives",
         "marker": {
          "color": "#636efa",
          "symbol": "circle"
         },
         "mode": "markers",
         "name": "Maldives",
         "orientation": "v",
         "showlegend": true,
         "type": "scatter",
         "x": [
          530953
         ],
         "xaxis": "x",
         "y": [
          5729248472
         ],
         "yaxis": "y"
        },
        {
         "hovertemplate": "Country=Mali<br>Population=%{x}<br>GDP=%{y}<extra></extra>",
         "legendgroup": "Mali",
         "marker": {
          "color": "#EF553B",
          "symbol": "circle"
         },
         "mode": "markers",
         "name": "Mali",
         "orientation": "v",
         "showlegend": true,
         "type": "scatter",
         "x": [
          19658031
         ],
         "xaxis": "x",
         "y": [
          17510141171
         ],
         "yaxis": "y"
        },
        {
         "hovertemplate": "Country=Malta<br>Population=%{x}<br>GDP=%{y}<extra></extra>",
         "legendgroup": "Malta",
         "marker": {
          "color": "#00cc96",
          "symbol": "circle"
         },
         "mode": "markers",
         "name": "Malta",
         "orientation": "v",
         "showlegend": true,
         "type": "scatter",
         "x": [
          502653
         ],
         "xaxis": "x",
         "y": [
          14786156563
         ],
         "yaxis": "y"
        },
        {
         "hovertemplate": "Country=Marshall Islands<br>Population=%{x}<br>GDP=%{y}<extra></extra>",
         "legendgroup": "Marshall Islands",
         "marker": {
          "color": "#ab63fa",
          "symbol": "circle"
         },
         "mode": "markers",
         "name": "Marshall Islands",
         "orientation": "v",
         "showlegend": true,
         "type": "scatter",
         "x": [
          58791
         ],
         "xaxis": "x",
         "y": [
          221278000
         ],
         "yaxis": "y"
        },
        {
         "hovertemplate": "Country=Mauritania<br>Population=%{x}<br>GDP=%{y}<extra></extra>",
         "legendgroup": "Mauritania",
         "marker": {
          "color": "#FFA15A",
          "symbol": "circle"
         },
         "mode": "markers",
         "name": "Mauritania",
         "orientation": "v",
         "showlegend": true,
         "type": "scatter",
         "x": [
          4525696
         ],
         "xaxis": "x",
         "y": [
          7593752450
         ],
         "yaxis": "y"
        },
        {
         "hovertemplate": "Country=Mauritius<br>Population=%{x}<br>GDP=%{y}<extra></extra>",
         "legendgroup": "Mauritius",
         "marker": {
          "color": "#19d3f3",
          "symbol": "circle"
         },
         "mode": "markers",
         "name": "Mauritius",
         "orientation": "v",
         "showlegend": true,
         "type": "scatter",
         "x": [
          1265711
         ],
         "xaxis": "x",
         "y": [
          14180444557
         ],
         "yaxis": "y"
        },
        {
         "hovertemplate": "Country=Mexico<br>Population=%{x}<br>GDP=%{y}<extra></extra>",
         "legendgroup": "Mexico",
         "marker": {
          "color": "#FF6692",
          "symbol": "circle"
         },
         "mode": "markers",
         "name": "Mexico",
         "orientation": "v",
         "showlegend": true,
         "type": "scatter",
         "x": [
          126014024
         ],
         "xaxis": "x",
         "y": [
          1258286717125
         ],
         "yaxis": "y"
        },
        {
         "hovertemplate": "Country=Federated States of Micronesia<br>Population=%{x}<br>GDP=%{y}<extra></extra>",
         "legendgroup": "Federated States of Micronesia",
         "marker": {
          "color": "#B6E880",
          "symbol": "circle"
         },
         "mode": "markers",
         "name": "Federated States of Micronesia",
         "orientation": "v",
         "showlegend": true,
         "type": "scatter",
         "x": [
          113815
         ],
         "xaxis": "x",
         "y": [
          401932279
         ],
         "yaxis": "y"
        },
        {
         "hovertemplate": "Country=Moldova<br>Population=%{x}<br>GDP=%{y}<extra></extra>",
         "legendgroup": "Moldova",
         "marker": {
          "color": "#FF97FF",
          "symbol": "circle"
         },
         "mode": "markers",
         "name": "Moldova",
         "orientation": "v",
         "showlegend": true,
         "type": "scatter",
         "x": [
          2657637
         ],
         "xaxis": "x",
         "y": [
          11955435457
         ],
         "yaxis": "y"
        },
        {
         "hovertemplate": "Country=Mongolia<br>Population=%{x}<br>GDP=%{y}<extra></extra>",
         "legendgroup": "Mongolia",
         "marker": {
          "color": "#FECB52",
          "symbol": "circle"
         },
         "mode": "markers",
         "name": "Mongolia",
         "orientation": "v",
         "showlegend": true,
         "type": "scatter",
         "x": [
          3225167
         ],
         "xaxis": "x",
         "y": [
          13852850259
         ],
         "yaxis": "y"
        },
        {
         "hovertemplate": "Country=Montenegro<br>Population=%{x}<br>GDP=%{y}<extra></extra>",
         "legendgroup": "Montenegro",
         "marker": {
          "color": "#636efa",
          "symbol": "circle"
         },
         "mode": "markers",
         "name": "Montenegro",
         "orientation": "v",
         "showlegend": true,
         "type": "scatter",
         "x": [
          622137
         ],
         "xaxis": "x",
         "y": [
          5494736901
         ],
         "yaxis": "y"
        },
        {
         "hovertemplate": "Country=Morocco<br>Population=%{x}<br>GDP=%{y}<extra></extra>",
         "legendgroup": "Morocco",
         "marker": {
          "color": "#EF553B",
          "symbol": "circle"
         },
         "mode": "markers",
         "name": "Morocco",
         "orientation": "v",
         "showlegend": true,
         "type": "scatter",
         "x": [
          36910560
         ],
         "xaxis": "x",
         "y": [
          118725279596
         ],
         "yaxis": "y"
        },
        {
         "hovertemplate": "Country=Mozambique<br>Population=%{x}<br>GDP=%{y}<extra></extra>",
         "legendgroup": "Mozambique",
         "marker": {
          "color": "#00cc96",
          "symbol": "circle"
         },
         "mode": "markers",
         "name": "Mozambique",
         "orientation": "v",
         "showlegend": true,
         "type": "scatter",
         "x": [
          30366036
         ],
         "xaxis": "x",
         "y": [
          14934159926
         ],
         "yaxis": "y"
        },
        {
         "hovertemplate": "Country=Myanmar<br>Population=%{x}<br>GDP=%{y}<extra></extra>",
         "legendgroup": "Myanmar",
         "marker": {
          "color": "#ab63fa",
          "symbol": "circle"
         },
         "mode": "markers",
         "name": "Myanmar",
         "orientation": "v",
         "showlegend": true,
         "type": "scatter",
         "x": [
          54045420
         ],
         "xaxis": "x",
         "y": [
          76085852617
         ],
         "yaxis": "y"
        },
        {
         "hovertemplate": "Country=Namibia<br>Population=%{x}<br>GDP=%{y}<extra></extra>",
         "legendgroup": "Namibia",
         "marker": {
          "color": "#FFA15A",
          "symbol": "circle"
         },
         "mode": "markers",
         "name": "Namibia",
         "orientation": "v",
         "showlegend": true,
         "type": "scatter",
         "x": [
          2494530
         ],
         "xaxis": "x",
         "y": [
          12366527719
         ],
         "yaxis": "y"
        },
        {
         "hovertemplate": "Country=Nepal<br>Population=%{x}<br>GDP=%{y}<extra></extra>",
         "legendgroup": "Nepal",
         "marker": {
          "color": "#19d3f3",
          "symbol": "circle"
         },
         "mode": "markers",
         "name": "Nepal",
         "orientation": "v",
         "showlegend": true,
         "type": "scatter",
         "x": [
          28608710
         ],
         "xaxis": "x",
         "y": [
          30641380604
         ],
         "yaxis": "y"
        },
        {
         "hovertemplate": "Country=Netherlands<br>Population=%{x}<br>GDP=%{y}<extra></extra>",
         "legendgroup": "Netherlands",
         "marker": {
          "color": "#FF6692",
          "symbol": "circle"
         },
         "mode": "markers",
         "name": "Netherlands",
         "orientation": "v",
         "showlegend": true,
         "type": "scatter",
         "x": [
          17332850
         ],
         "xaxis": "x",
         "y": [
          909070395161
         ],
         "yaxis": "y"
        },
        {
         "hovertemplate": "Country=New Zealand<br>Population=%{x}<br>GDP=%{y}<extra></extra>",
         "legendgroup": "New Zealand",
         "marker": {
          "color": "#B6E880",
          "symbol": "circle"
         },
         "mode": "markers",
         "name": "New Zealand",
         "orientation": "v",
         "showlegend": true,
         "type": "scatter",
         "x": [
          4841000
         ],
         "xaxis": "x",
         "y": [
          206928765544
         ],
         "yaxis": "y"
        },
        {
         "hovertemplate": "Country=Nicaragua<br>Population=%{x}<br>GDP=%{y}<extra></extra>",
         "legendgroup": "Nicaragua",
         "marker": {
          "color": "#FF97FF",
          "symbol": "circle"
         },
         "mode": "markers",
         "name": "Nicaragua",
         "orientation": "v",
         "showlegend": true,
         "type": "scatter",
         "x": [
          6545502
         ],
         "xaxis": "x",
         "y": [
          12520915291
         ],
         "yaxis": "y"
        },
        {
         "hovertemplate": "Country=Niger<br>Population=%{x}<br>GDP=%{y}<extra></extra>",
         "legendgroup": "Niger",
         "marker": {
          "color": "#FECB52",
          "symbol": "circle"
         },
         "mode": "markers",
         "name": "Niger",
         "orientation": "v",
         "showlegend": true,
         "type": "scatter",
         "x": [
          23310715
         ],
         "xaxis": "x",
         "y": [
          12928145120
         ],
         "yaxis": "y"
        },
        {
         "hovertemplate": "Country=Nigeria<br>Population=%{x}<br>GDP=%{y}<extra></extra>",
         "legendgroup": "Nigeria",
         "marker": {
          "color": "#636efa",
          "symbol": "circle"
         },
         "mode": "markers",
         "name": "Nigeria",
         "orientation": "v",
         "showlegend": true,
         "type": "scatter",
         "x": [
          200963599
         ],
         "xaxis": "x",
         "y": [
          448120428859
         ],
         "yaxis": "y"
        },
        {
         "hovertemplate": "Country=North Korea<br>Population=%{x}<br>GDP=%{y}<extra></extra>",
         "legendgroup": "North Korea",
         "marker": {
          "color": "#EF553B",
          "symbol": "circle"
         },
         "mode": "markers",
         "name": "North Korea",
         "orientation": "v",
         "showlegend": true,
         "type": "scatter",
         "x": [
          25666161
         ],
         "xaxis": "x",
         "y": [
          32100000000
         ],
         "yaxis": "y"
        },
        {
         "hovertemplate": "Country=Norway<br>Population=%{x}<br>GDP=%{y}<extra></extra>",
         "legendgroup": "Norway",
         "marker": {
          "color": "#00cc96",
          "symbol": "circle"
         },
         "mode": "markers",
         "name": "Norway",
         "orientation": "v",
         "showlegend": true,
         "type": "scatter",
         "x": [
          5347896
         ],
         "xaxis": "x",
         "y": [
          403336363636
         ],
         "yaxis": "y"
        },
        {
         "hovertemplate": "Country=Oman<br>Population=%{x}<br>GDP=%{y}<extra></extra>",
         "legendgroup": "Oman",
         "marker": {
          "color": "#ab63fa",
          "symbol": "circle"
         },
         "mode": "markers",
         "name": "Oman",
         "orientation": "v",
         "showlegend": true,
         "type": "scatter",
         "x": [
          5266535
         ],
         "xaxis": "x",
         "y": [
          76983094928
         ],
         "yaxis": "y"
        },
        {
         "hovertemplate": "Country=Pakistan<br>Population=%{x}<br>GDP=%{y}<extra></extra>",
         "legendgroup": "Pakistan",
         "marker": {
          "color": "#FFA15A",
          "symbol": "circle"
         },
         "mode": "markers",
         "name": "Pakistan",
         "orientation": "v",
         "showlegend": true,
         "type": "scatter",
         "x": [
          216565318
         ],
         "xaxis": "x",
         "y": [
          304400000000
         ],
         "yaxis": "y"
        },
        {
         "hovertemplate": "Country=Palau<br>Population=%{x}<br>GDP=%{y}<extra></extra>",
         "legendgroup": "Palau",
         "marker": {
          "color": "#19d3f3",
          "symbol": "circle"
         },
         "mode": "markers",
         "name": "Palau",
         "orientation": "v",
         "showlegend": true,
         "type": "scatter",
         "x": [
          18233
         ],
         "xaxis": "x",
         "y": [
          283994900
         ],
         "yaxis": "y"
        },
        {
         "hovertemplate": "Country=Panama<br>Population=%{x}<br>GDP=%{y}<extra></extra>",
         "legendgroup": "Panama",
         "marker": {
          "color": "#FF6692",
          "symbol": "circle"
         },
         "mode": "markers",
         "name": "Panama",
         "orientation": "v",
         "showlegend": true,
         "type": "scatter",
         "x": [
          4246439
         ],
         "xaxis": "x",
         "y": [
          66800800000
         ],
         "yaxis": "y"
        },
        {
         "hovertemplate": "Country=Papua New Guinea<br>Population=%{x}<br>GDP=%{y}<extra></extra>",
         "legendgroup": "Papua New Guinea",
         "marker": {
          "color": "#B6E880",
          "symbol": "circle"
         },
         "mode": "markers",
         "name": "Papua New Guinea",
         "orientation": "v",
         "showlegend": true,
         "type": "scatter",
         "x": [
          8776109
         ],
         "xaxis": "x",
         "y": [
          24969611435
         ],
         "yaxis": "y"
        },
        {
         "hovertemplate": "Country=Paraguay<br>Population=%{x}<br>GDP=%{y}<extra></extra>",
         "legendgroup": "Paraguay",
         "marker": {
          "color": "#FF97FF",
          "symbol": "circle"
         },
         "mode": "markers",
         "name": "Paraguay",
         "orientation": "v",
         "showlegend": true,
         "type": "scatter",
         "x": [
          7044636
         ],
         "xaxis": "x",
         "y": [
          38145288940
         ],
         "yaxis": "y"
        },
        {
         "hovertemplate": "Country=Peru<br>Population=%{x}<br>GDP=%{y}<extra></extra>",
         "legendgroup": "Peru",
         "marker": {
          "color": "#FECB52",
          "symbol": "circle"
         },
         "mode": "markers",
         "name": "Peru",
         "orientation": "v",
         "showlegend": true,
         "type": "scatter",
         "x": [
          32510453
         ],
         "xaxis": "x",
         "y": [
          226848050820
         ],
         "yaxis": "y"
        },
        {
         "hovertemplate": "Country=Philippines<br>Population=%{x}<br>GDP=%{y}<extra></extra>",
         "legendgroup": "Philippines",
         "marker": {
          "color": "#636efa",
          "symbol": "circle"
         },
         "mode": "markers",
         "name": "Philippines",
         "orientation": "v",
         "showlegend": true,
         "type": "scatter",
         "x": [
          108116615
         ],
         "xaxis": "x",
         "y": [
          376795508680
         ],
         "yaxis": "y"
        },
        {
         "hovertemplate": "Country=Poland<br>Population=%{x}<br>GDP=%{y}<extra></extra>",
         "legendgroup": "Poland",
         "marker": {
          "color": "#EF553B",
          "symbol": "circle"
         },
         "mode": "markers",
         "name": "Poland",
         "orientation": "v",
         "showlegend": true,
         "type": "scatter",
         "x": [
          37970874
         ],
         "xaxis": "x",
         "y": [
          592164400688
         ],
         "yaxis": "y"
        },
        {
         "hovertemplate": "Country=Portugal<br>Population=%{x}<br>GDP=%{y}<extra></extra>",
         "legendgroup": "Portugal",
         "marker": {
          "color": "#00cc96",
          "symbol": "circle"
         },
         "mode": "markers",
         "name": "Portugal",
         "orientation": "v",
         "showlegend": true,
         "type": "scatter",
         "x": [
          10269417
         ],
         "xaxis": "x",
         "y": [
          237686075635
         ],
         "yaxis": "y"
        },
        {
         "hovertemplate": "Country=Qatar<br>Population=%{x}<br>GDP=%{y}<extra></extra>",
         "legendgroup": "Qatar",
         "marker": {
          "color": "#ab63fa",
          "symbol": "circle"
         },
         "mode": "markers",
         "name": "Qatar",
         "orientation": "v",
         "showlegend": true,
         "type": "scatter",
         "x": [
          2832067
         ],
         "xaxis": "x",
         "y": [
          183466208791
         ],
         "yaxis": "y"
        },
        {
         "hovertemplate": "Country=Romania<br>Population=%{x}<br>GDP=%{y}<extra></extra>",
         "legendgroup": "Romania",
         "marker": {
          "color": "#FFA15A",
          "symbol": "circle"
         },
         "mode": "markers",
         "name": "Romania",
         "orientation": "v",
         "showlegend": true,
         "type": "scatter",
         "x": [
          19356544
         ],
         "xaxis": "x",
         "y": [
          250077444017
         ],
         "yaxis": "y"
        },
        {
         "hovertemplate": "Country=Russia<br>Population=%{x}<br>GDP=%{y}<extra></extra>",
         "legendgroup": "Russia",
         "marker": {
          "color": "#19d3f3",
          "symbol": "circle"
         },
         "mode": "markers",
         "name": "Russia",
         "orientation": "v",
         "showlegend": true,
         "type": "scatter",
         "x": [
          144373535
         ],
         "xaxis": "x",
         "y": [
          1699876578871
         ],
         "yaxis": "y"
        },
        {
         "hovertemplate": "Country=Rwanda<br>Population=%{x}<br>GDP=%{y}<extra></extra>",
         "legendgroup": "Rwanda",
         "marker": {
          "color": "#FF6692",
          "symbol": "circle"
         },
         "mode": "markers",
         "name": "Rwanda",
         "orientation": "v",
         "showlegend": true,
         "type": "scatter",
         "x": [
          12626950
         ],
         "xaxis": "x",
         "y": [
          10122472590
         ],
         "yaxis": "y"
        },
        {
         "hovertemplate": "Country=Saint Kitts and Nevis<br>Population=%{x}<br>GDP=%{y}<extra></extra>",
         "legendgroup": "Saint Kitts and Nevis",
         "marker": {
          "color": "#B6E880",
          "symbol": "circle"
         },
         "mode": "markers",
         "name": "Saint Kitts and Nevis",
         "orientation": "v",
         "showlegend": true,
         "type": "scatter",
         "x": [
          52823
         ],
         "xaxis": "x",
         "y": [
          1050992593
         ],
         "yaxis": "y"
        },
        {
         "hovertemplate": "Country=Saint Lucia<br>Population=%{x}<br>GDP=%{y}<extra></extra>",
         "legendgroup": "Saint Lucia",
         "marker": {
          "color": "#FF97FF",
          "symbol": "circle"
         },
         "mode": "markers",
         "name": "Saint Lucia",
         "orientation": "v",
         "showlegend": true,
         "type": "scatter",
         "x": [
          182790
         ],
         "xaxis": "x",
         "y": [
          2122450630
         ],
         "yaxis": "y"
        },
        {
         "hovertemplate": "Country=Saint Vincent and the Grenadines<br>Population=%{x}<br>GDP=%{y}<extra></extra>",
         "legendgroup": "Saint Vincent and the Grenadines",
         "marker": {
          "color": "#FECB52",
          "symbol": "circle"
         },
         "mode": "markers",
         "name": "Saint Vincent and the Grenadines",
         "orientation": "v",
         "showlegend": true,
         "type": "scatter",
         "x": [
          100455
         ],
         "xaxis": "x",
         "y": [
          825385185
         ],
         "yaxis": "y"
        },
        {
         "hovertemplate": "Country=Samoa<br>Population=%{x}<br>GDP=%{y}<extra></extra>",
         "legendgroup": "Samoa",
         "marker": {
          "color": "#636efa",
          "symbol": "circle"
         },
         "mode": "markers",
         "name": "Samoa",
         "orientation": "v",
         "showlegend": true,
         "type": "scatter",
         "x": [
          202506
         ],
         "xaxis": "x",
         "y": [
          850655017
         ],
         "yaxis": "y"
        },
        {
         "hovertemplate": "Country=San Marino<br>Population=%{x}<br>GDP=%{y}<extra></extra>",
         "legendgroup": "San Marino",
         "marker": {
          "color": "#EF553B",
          "symbol": "circle"
         },
         "mode": "markers",
         "name": "San Marino",
         "orientation": "v",
         "showlegend": true,
         "type": "scatter",
         "x": [
          33860
         ],
         "xaxis": "x",
         "y": [
          1637931034
         ],
         "yaxis": "y"
        },
        {
         "hovertemplate": "Country=S�����������<br>Population=%{x}<br>GDP=%{y}<extra></extra>",
         "legendgroup": "S�����������",
         "marker": {
          "color": "#00cc96",
          "symbol": "circle"
         },
         "mode": "markers",
         "name": "S�����������",
         "orientation": "v",
         "showlegend": true,
         "type": "scatter",
         "x": [
          215056
         ],
         "xaxis": "x",
         "y": [
          429016605
         ],
         "yaxis": "y"
        },
        {
         "hovertemplate": "Country=Saudi Arabia<br>Population=%{x}<br>GDP=%{y}<extra></extra>",
         "legendgroup": "Saudi Arabia",
         "marker": {
          "color": "#ab63fa",
          "symbol": "circle"
         },
         "mode": "markers",
         "name": "Saudi Arabia",
         "orientation": "v",
         "showlegend": true,
         "type": "scatter",
         "x": [
          34268528
         ],
         "xaxis": "x",
         "y": [
          792966838162
         ],
         "yaxis": "y"
        },
        {
         "hovertemplate": "Country=Senegal<br>Population=%{x}<br>GDP=%{y}<extra></extra>",
         "legendgroup": "Senegal",
         "marker": {
          "color": "#FFA15A",
          "symbol": "circle"
         },
         "mode": "markers",
         "name": "Senegal",
         "orientation": "v",
         "showlegend": true,
         "type": "scatter",
         "x": [
          16296364
         ],
         "xaxis": "x",
         "y": [
          23578084052
         ],
         "yaxis": "y"
        },
        {
         "hovertemplate": "Country=Serbia<br>Population=%{x}<br>GDP=%{y}<extra></extra>",
         "legendgroup": "Serbia",
         "marker": {
          "color": "#19d3f3",
          "symbol": "circle"
         },
         "mode": "markers",
         "name": "Serbia",
         "orientation": "v",
         "showlegend": true,
         "type": "scatter",
         "x": [
          6944975
         ],
         "xaxis": "x",
         "y": [
          51409167351
         ],
         "yaxis": "y"
        },
        {
         "hovertemplate": "Country=Seychelles<br>Population=%{x}<br>GDP=%{y}<extra></extra>",
         "legendgroup": "Seychelles",
         "marker": {
          "color": "#FF6692",
          "symbol": "circle"
         },
         "mode": "markers",
         "name": "Seychelles",
         "orientation": "v",
         "showlegend": true,
         "type": "scatter",
         "x": [
          97625
         ],
         "xaxis": "x",
         "y": [
          1698843063
         ],
         "yaxis": "y"
        },
        {
         "hovertemplate": "Country=Sierra Leone<br>Population=%{x}<br>GDP=%{y}<extra></extra>",
         "legendgroup": "Sierra Leone",
         "marker": {
          "color": "#B6E880",
          "symbol": "circle"
         },
         "mode": "markers",
         "name": "Sierra Leone",
         "orientation": "v",
         "showlegend": true,
         "type": "scatter",
         "x": [
          7813215
         ],
         "xaxis": "x",
         "y": [
          3941474311
         ],
         "yaxis": "y"
        },
        {
         "hovertemplate": "Country=Singapore<br>Population=%{x}<br>GDP=%{y}<extra></extra>",
         "legendgroup": "Singapore",
         "marker": {
          "color": "#FF97FF",
          "symbol": "circle"
         },
         "mode": "markers",
         "name": "Singapore",
         "orientation": "v",
         "showlegend": true,
         "type": "scatter",
         "x": [
          5703569
         ],
         "xaxis": "x",
         "y": [
          372062527489
         ],
         "yaxis": "y"
        },
        {
         "hovertemplate": "Country=Slovakia<br>Population=%{x}<br>GDP=%{y}<extra></extra>",
         "legendgroup": "Slovakia",
         "marker": {
          "color": "#FECB52",
          "symbol": "circle"
         },
         "mode": "markers",
         "name": "Slovakia",
         "orientation": "v",
         "showlegend": true,
         "type": "scatter",
         "x": [
          5454073
         ],
         "xaxis": "x",
         "y": [
          105422304976
         ],
         "yaxis": "y"
        },
        {
         "hovertemplate": "Country=Slovenia<br>Population=%{x}<br>GDP=%{y}<extra></extra>",
         "legendgroup": "Slovenia",
         "marker": {
          "color": "#636efa",
          "symbol": "circle"
         },
         "mode": "markers",
         "name": "Slovenia",
         "orientation": "v",
         "showlegend": true,
         "type": "scatter",
         "x": [
          2087946
         ],
         "xaxis": "x",
         "y": [
          53742159517
         ],
         "yaxis": "y"
        },
        {
         "hovertemplate": "Country=Solomon Islands<br>Population=%{x}<br>GDP=%{y}<extra></extra>",
         "legendgroup": "Solomon Islands",
         "marker": {
          "color": "#EF553B",
          "symbol": "circle"
         },
         "mode": "markers",
         "name": "Solomon Islands",
         "orientation": "v",
         "showlegend": true,
         "type": "scatter",
         "x": [
          669823
         ],
         "xaxis": "x",
         "y": [
          1425074226
         ],
         "yaxis": "y"
        },
        {
         "hovertemplate": "Country=Somalia<br>Population=%{x}<br>GDP=%{y}<extra></extra>",
         "legendgroup": "Somalia",
         "marker": {
          "color": "#00cc96",
          "symbol": "circle"
         },
         "mode": "markers",
         "name": "Somalia",
         "orientation": "v",
         "showlegend": true,
         "type": "scatter",
         "x": [
          15442905
         ],
         "xaxis": "x",
         "y": [
          4720727278
         ],
         "yaxis": "y"
        },
        {
         "hovertemplate": "Country=South Africa<br>Population=%{x}<br>GDP=%{y}<extra></extra>",
         "legendgroup": "South Africa",
         "marker": {
          "color": "#ab63fa",
          "symbol": "circle"
         },
         "mode": "markers",
         "name": "South Africa",
         "orientation": "v",
         "showlegend": true,
         "type": "scatter",
         "x": [
          58558270
         ],
         "xaxis": "x",
         "y": [
          351431649241
         ],
         "yaxis": "y"
        },
        {
         "hovertemplate": "Country=South Korea<br>Population=%{x}<br>GDP=%{y}<extra></extra>",
         "legendgroup": "South Korea",
         "marker": {
          "color": "#FFA15A",
          "symbol": "circle"
         },
         "mode": "markers",
         "name": "South Korea",
         "orientation": "v",
         "showlegend": true,
         "type": "scatter",
         "x": [
          51709098
         ],
         "xaxis": "x",
         "y": [
          2029000000000
         ],
         "yaxis": "y"
        },
        {
         "hovertemplate": "Country=South Sudan<br>Population=%{x}<br>GDP=%{y}<extra></extra>",
         "legendgroup": "South Sudan",
         "marker": {
          "color": "#19d3f3",
          "symbol": "circle"
         },
         "mode": "markers",
         "name": "South Sudan",
         "orientation": "v",
         "showlegend": true,
         "type": "scatter",
         "x": [
          11062113
         ],
         "xaxis": "x",
         "y": [
          11997800751
         ],
         "yaxis": "y"
        },
        {
         "hovertemplate": "Country=Spain<br>Population=%{x}<br>GDP=%{y}<extra></extra>",
         "legendgroup": "Spain",
         "marker": {
          "color": "#FF6692",
          "symbol": "circle"
         },
         "mode": "markers",
         "name": "Spain",
         "orientation": "v",
         "showlegend": true,
         "type": "scatter",
         "x": [
          47076781
         ],
         "xaxis": "x",
         "y": [
          1394116310769
         ],
         "yaxis": "y"
        },
        {
         "hovertemplate": "Country=Sri Lanka<br>Population=%{x}<br>GDP=%{y}<extra></extra>",
         "legendgroup": "Sri Lanka",
         "marker": {
          "color": "#B6E880",
          "symbol": "circle"
         },
         "mode": "markers",
         "name": "Sri Lanka",
         "orientation": "v",
         "showlegend": true,
         "type": "scatter",
         "x": [
          21803000
         ],
         "xaxis": "x",
         "y": [
          84008783756
         ],
         "yaxis": "y"
        },
        {
         "hovertemplate": "Country=Sudan<br>Population=%{x}<br>GDP=%{y}<extra></extra>",
         "legendgroup": "Sudan",
         "marker": {
          "color": "#FF97FF",
          "symbol": "circle"
         },
         "mode": "markers",
         "name": "Sudan",
         "orientation": "v",
         "showlegend": true,
         "type": "scatter",
         "x": [
          42813238
         ],
         "xaxis": "x",
         "y": [
          18902284476
         ],
         "yaxis": "y"
        },
        {
         "hovertemplate": "Country=Suriname<br>Population=%{x}<br>GDP=%{y}<extra></extra>",
         "legendgroup": "Suriname",
         "marker": {
          "color": "#FECB52",
          "symbol": "circle"
         },
         "mode": "markers",
         "name": "Suriname",
         "orientation": "v",
         "showlegend": true,
         "type": "scatter",
         "x": [
          581372
         ],
         "xaxis": "x",
         "y": [
          3985250737
         ],
         "yaxis": "y"
        },
        {
         "hovertemplate": "Country=Sweden<br>Population=%{x}<br>GDP=%{y}<extra></extra>",
         "legendgroup": "Sweden",
         "marker": {
          "color": "#636efa",
          "symbol": "circle"
         },
         "mode": "markers",
         "name": "Sweden",
         "orientation": "v",
         "showlegend": true,
         "type": "scatter",
         "x": [
          10285453
         ],
         "xaxis": "x",
         "y": [
          530832908738
         ],
         "yaxis": "y"
        },
        {
         "hovertemplate": "Country=Switzerland<br>Population=%{x}<br>GDP=%{y}<extra></extra>",
         "legendgroup": "Switzerland",
         "marker": {
          "color": "#EF553B",
          "symbol": "circle"
         },
         "mode": "markers",
         "name": "Switzerland",
         "orientation": "v",
         "showlegend": true,
         "type": "scatter",
         "x": [
          8574832
         ],
         "xaxis": "x",
         "y": [
          703082435360
         ],
         "yaxis": "y"
        },
        {
         "hovertemplate": "Country=Syria<br>Population=%{x}<br>GDP=%{y}<extra></extra>",
         "legendgroup": "Syria",
         "marker": {
          "color": "#00cc96",
          "symbol": "circle"
         },
         "mode": "markers",
         "name": "Syria",
         "orientation": "v",
         "showlegend": true,
         "type": "scatter",
         "x": [
          17070135
         ],
         "xaxis": "x",
         "y": [
          40405006007
         ],
         "yaxis": "y"
        },
        {
         "hovertemplate": "Country=Tajikistan<br>Population=%{x}<br>GDP=%{y}<extra></extra>",
         "legendgroup": "Tajikistan",
         "marker": {
          "color": "#ab63fa",
          "symbol": "circle"
         },
         "mode": "markers",
         "name": "Tajikistan",
         "orientation": "v",
         "showlegend": true,
         "type": "scatter",
         "x": [
          9321018
         ],
         "xaxis": "x",
         "y": [
          8116626794
         ],
         "yaxis": "y"
        },
        {
         "hovertemplate": "Country=Tanzania<br>Population=%{x}<br>GDP=%{y}<extra></extra>",
         "legendgroup": "Tanzania",
         "marker": {
          "color": "#FFA15A",
          "symbol": "circle"
         },
         "mode": "markers",
         "name": "Tanzania",
         "orientation": "v",
         "showlegend": true,
         "type": "scatter",
         "x": [
          58005463
         ],
         "xaxis": "x",
         "y": [
          63177068175
         ],
         "yaxis": "y"
        },
        {
         "hovertemplate": "Country=Thailand<br>Population=%{x}<br>GDP=%{y}<extra></extra>",
         "legendgroup": "Thailand",
         "marker": {
          "color": "#19d3f3",
          "symbol": "circle"
         },
         "mode": "markers",
         "name": "Thailand",
         "orientation": "v",
         "showlegend": true,
         "type": "scatter",
         "x": [
          69625582
         ],
         "xaxis": "x",
         "y": [
          543649976166
         ],
         "yaxis": "y"
        },
        {
         "hovertemplate": "Country=East Timor<br>Population=%{x}<br>GDP=%{y}<extra></extra>",
         "legendgroup": "East Timor",
         "marker": {
          "color": "#FF6692",
          "symbol": "circle"
         },
         "mode": "markers",
         "name": "East Timor",
         "orientation": "v",
         "showlegend": true,
         "type": "scatter",
         "x": [
          3500000
         ],
         "xaxis": "x",
         "y": [
          1673540300
         ],
         "yaxis": "y"
        },
        {
         "hovertemplate": "Country=Togo<br>Population=%{x}<br>GDP=%{y}<extra></extra>",
         "legendgroup": "Togo",
         "marker": {
          "color": "#B6E880",
          "symbol": "circle"
         },
         "mode": "markers",
         "name": "Togo",
         "orientation": "v",
         "showlegend": true,
         "type": "scatter",
         "x": [
          8082366
         ],
         "xaxis": "x",
         "y": [
          5459979417
         ],
         "yaxis": "y"
        },
        {
         "hovertemplate": "Country=Tonga<br>Population=%{x}<br>GDP=%{y}<extra></extra>",
         "legendgroup": "Tonga",
         "marker": {
          "color": "#FF97FF",
          "symbol": "circle"
         },
         "mode": "markers",
         "name": "Tonga",
         "orientation": "v",
         "showlegend": true,
         "type": "scatter",
         "x": [
          100209
         ],
         "xaxis": "x",
         "y": [
          450353314
         ],
         "yaxis": "y"
        },
        {
         "hovertemplate": "Country=Trinidad and Tobago<br>Population=%{x}<br>GDP=%{y}<extra></extra>",
         "legendgroup": "Trinidad and Tobago",
         "marker": {
          "color": "#FECB52",
          "symbol": "circle"
         },
         "mode": "markers",
         "name": "Trinidad and Tobago",
         "orientation": "v",
         "showlegend": true,
         "type": "scatter",
         "x": [
          1394973
         ],
         "xaxis": "x",
         "y": [
          24100202834
         ],
         "yaxis": "y"
        },
        {
         "hovertemplate": "Country=Tunisia<br>Population=%{x}<br>GDP=%{y}<extra></extra>",
         "legendgroup": "Tunisia",
         "marker": {
          "color": "#636efa",
          "symbol": "circle"
         },
         "mode": "markers",
         "name": "Tunisia",
         "orientation": "v",
         "showlegend": true,
         "type": "scatter",
         "x": [
          11694719
         ],
         "xaxis": "x",
         "y": [
          38797709924
         ],
         "yaxis": "y"
        },
        {
         "hovertemplate": "Country=Turkey<br>Population=%{x}<br>GDP=%{y}<extra></extra>",
         "legendgroup": "Turkey",
         "marker": {
          "color": "#EF553B",
          "symbol": "circle"
         },
         "mode": "markers",
         "name": "Turkey",
         "orientation": "v",
         "showlegend": true,
         "type": "scatter",
         "x": [
          83429615
         ],
         "xaxis": "x",
         "y": [
          754411708203
         ],
         "yaxis": "y"
        },
        {
         "hovertemplate": "Country=Turkmenistan<br>Population=%{x}<br>GDP=%{y}<extra></extra>",
         "legendgroup": "Turkmenistan",
         "marker": {
          "color": "#00cc96",
          "symbol": "circle"
         },
         "mode": "markers",
         "name": "Turkmenistan",
         "orientation": "v",
         "showlegend": true,
         "type": "scatter",
         "x": [
          5942089
         ],
         "xaxis": "x",
         "y": [
          40761142857
         ],
         "yaxis": "y"
        },
        {
         "hovertemplate": "Country=Uganda<br>Population=%{x}<br>GDP=%{y}<extra></extra>",
         "legendgroup": "Uganda",
         "marker": {
          "color": "#ab63fa",
          "symbol": "circle"
         },
         "mode": "markers",
         "name": "Uganda",
         "orientation": "v",
         "showlegend": true,
         "type": "scatter",
         "x": [
          44269594
         ],
         "xaxis": "x",
         "y": [
          34387229486
         ],
         "yaxis": "y"
        },
        {
         "hovertemplate": "Country=Ukraine<br>Population=%{x}<br>GDP=%{y}<extra></extra>",
         "legendgroup": "Ukraine",
         "marker": {
          "color": "#FFA15A",
          "symbol": "circle"
         },
         "mode": "markers",
         "name": "Ukraine",
         "orientation": "v",
         "showlegend": true,
         "type": "scatter",
         "x": [
          44385155
         ],
         "xaxis": "x",
         "y": [
          153781069118
         ],
         "yaxis": "y"
        },
        {
         "hovertemplate": "Country=United Arab Emirates<br>Population=%{x}<br>GDP=%{y}<extra></extra>",
         "legendgroup": "United Arab Emirates",
         "marker": {
          "color": "#19d3f3",
          "symbol": "circle"
         },
         "mode": "markers",
         "name": "United Arab Emirates",
         "orientation": "v",
         "showlegend": true,
         "type": "scatter",
         "x": [
          9770529
         ],
         "xaxis": "x",
         "y": [
          421142267938
         ],
         "yaxis": "y"
        },
        {
         "hovertemplate": "Country=United Kingdom<br>Population=%{x}<br>GDP=%{y}<extra></extra>",
         "legendgroup": "United Kingdom",
         "marker": {
          "color": "#FF6692",
          "symbol": "circle"
         },
         "mode": "markers",
         "name": "United Kingdom",
         "orientation": "v",
         "showlegend": true,
         "type": "scatter",
         "x": [
          66834405
         ],
         "xaxis": "x",
         "y": [
          2827113184696
         ],
         "yaxis": "y"
        },
        {
         "hovertemplate": "Country=United States<br>Population=%{x}<br>GDP=%{y}<extra></extra>",
         "legendgroup": "United States",
         "marker": {
          "color": "#B6E880",
          "symbol": "circle"
         },
         "mode": "markers",
         "name": "United States",
         "orientation": "v",
         "showlegend": true,
         "type": "scatter",
         "x": [
          328239523
         ],
         "xaxis": "x",
         "y": [
          21427700000000
         ],
         "yaxis": "y"
        },
        {
         "hovertemplate": "Country=Uruguay<br>Population=%{x}<br>GDP=%{y}<extra></extra>",
         "legendgroup": "Uruguay",
         "marker": {
          "color": "#FF97FF",
          "symbol": "circle"
         },
         "mode": "markers",
         "name": "Uruguay",
         "orientation": "v",
         "showlegend": true,
         "type": "scatter",
         "x": [
          3461734
         ],
         "xaxis": "x",
         "y": [
          56045912952
         ],
         "yaxis": "y"
        },
        {
         "hovertemplate": "Country=Uzbekistan<br>Population=%{x}<br>GDP=%{y}<extra></extra>",
         "legendgroup": "Uzbekistan",
         "marker": {
          "color": "#FECB52",
          "symbol": "circle"
         },
         "mode": "markers",
         "name": "Uzbekistan",
         "orientation": "v",
         "showlegend": true,
         "type": "scatter",
         "x": [
          33580650
         ],
         "xaxis": "x",
         "y": [
          57921286440
         ],
         "yaxis": "y"
        },
        {
         "hovertemplate": "Country=Vanuatu<br>Population=%{x}<br>GDP=%{y}<extra></extra>",
         "legendgroup": "Vanuatu",
         "marker": {
          "color": "#636efa",
          "symbol": "circle"
         },
         "mode": "markers",
         "name": "Vanuatu",
         "orientation": "v",
         "showlegend": true,
         "type": "scatter",
         "x": [
          299882
         ],
         "xaxis": "x",
         "y": [
          917058851
         ],
         "yaxis": "y"
        },
        {
         "hovertemplate": "Country=Venezuela<br>Population=%{x}<br>GDP=%{y}<extra></extra>",
         "legendgroup": "Venezuela",
         "marker": {
          "color": "#EF553B",
          "symbol": "circle"
         },
         "mode": "markers",
         "name": "Venezuela",
         "orientation": "v",
         "showlegend": true,
         "type": "scatter",
         "x": [
          28515829
         ],
         "xaxis": "x",
         "y": [
          482359318768
         ],
         "yaxis": "y"
        },
        {
         "hovertemplate": "Country=Vietnam<br>Population=%{x}<br>GDP=%{y}<extra></extra>",
         "legendgroup": "Vietnam",
         "marker": {
          "color": "#00cc96",
          "symbol": "circle"
         },
         "mode": "markers",
         "name": "Vietnam",
         "orientation": "v",
         "showlegend": true,
         "type": "scatter",
         "x": [
          96462106
         ],
         "xaxis": "x",
         "y": [
          261921244843
         ],
         "yaxis": "y"
        },
        {
         "hovertemplate": "Country=Yemen<br>Population=%{x}<br>GDP=%{y}<extra></extra>",
         "legendgroup": "Yemen",
         "marker": {
          "color": "#ab63fa",
          "symbol": "circle"
         },
         "mode": "markers",
         "name": "Yemen",
         "orientation": "v",
         "showlegend": true,
         "type": "scatter",
         "x": [
          29161922
         ],
         "xaxis": "x",
         "y": [
          26914402224
         ],
         "yaxis": "y"
        },
        {
         "hovertemplate": "Country=Zambia<br>Population=%{x}<br>GDP=%{y}<extra></extra>",
         "legendgroup": "Zambia",
         "marker": {
          "color": "#FFA15A",
          "symbol": "circle"
         },
         "mode": "markers",
         "name": "Zambia",
         "orientation": "v",
         "showlegend": true,
         "type": "scatter",
         "x": [
          17861030
         ],
         "xaxis": "x",
         "y": [
          23064722446
         ],
         "yaxis": "y"
        },
        {
         "hovertemplate": "Country=Zimbabwe<br>Population=%{x}<br>GDP=%{y}<extra></extra>",
         "legendgroup": "Zimbabwe",
         "marker": {
          "color": "#19d3f3",
          "symbol": "circle"
         },
         "mode": "markers",
         "name": "Zimbabwe",
         "orientation": "v",
         "showlegend": true,
         "type": "scatter",
         "x": [
          14645468
         ],
         "xaxis": "x",
         "y": [
          21440758800
         ],
         "yaxis": "y"
        }
       ],
       "layout": {
        "legend": {
         "title": {
          "text": "Country"
         },
         "tracegroupgap": 0
        },
        "template": {
         "data": {
          "bar": [
           {
            "error_x": {
             "color": "#2a3f5f"
            },
            "error_y": {
             "color": "#2a3f5f"
            },
            "marker": {
             "line": {
              "color": "#E5ECF6",
              "width": 0.5
             },
             "pattern": {
              "fillmode": "overlay",
              "size": 10,
              "solidity": 0.2
             }
            },
            "type": "bar"
           }
          ],
          "barpolar": [
           {
            "marker": {
             "line": {
              "color": "#E5ECF6",
              "width": 0.5
             },
             "pattern": {
              "fillmode": "overlay",
              "size": 10,
              "solidity": 0.2
             }
            },
            "type": "barpolar"
           }
          ],
          "carpet": [
           {
            "aaxis": {
             "endlinecolor": "#2a3f5f",
             "gridcolor": "white",
             "linecolor": "white",
             "minorgridcolor": "white",
             "startlinecolor": "#2a3f5f"
            },
            "baxis": {
             "endlinecolor": "#2a3f5f",
             "gridcolor": "white",
             "linecolor": "white",
             "minorgridcolor": "white",
             "startlinecolor": "#2a3f5f"
            },
            "type": "carpet"
           }
          ],
          "choropleth": [
           {
            "colorbar": {
             "outlinewidth": 0,
             "ticks": ""
            },
            "type": "choropleth"
           }
          ],
          "contour": [
           {
            "colorbar": {
             "outlinewidth": 0,
             "ticks": ""
            },
            "colorscale": [
             [
              0,
              "#0d0887"
             ],
             [
              0.1111111111111111,
              "#46039f"
             ],
             [
              0.2222222222222222,
              "#7201a8"
             ],
             [
              0.3333333333333333,
              "#9c179e"
             ],
             [
              0.4444444444444444,
              "#bd3786"
             ],
             [
              0.5555555555555556,
              "#d8576b"
             ],
             [
              0.6666666666666666,
              "#ed7953"
             ],
             [
              0.7777777777777778,
              "#fb9f3a"
             ],
             [
              0.8888888888888888,
              "#fdca26"
             ],
             [
              1,
              "#f0f921"
             ]
            ],
            "type": "contour"
           }
          ],
          "contourcarpet": [
           {
            "colorbar": {
             "outlinewidth": 0,
             "ticks": ""
            },
            "type": "contourcarpet"
           }
          ],
          "heatmap": [
           {
            "colorbar": {
             "outlinewidth": 0,
             "ticks": ""
            },
            "colorscale": [
             [
              0,
              "#0d0887"
             ],
             [
              0.1111111111111111,
              "#46039f"
             ],
             [
              0.2222222222222222,
              "#7201a8"
             ],
             [
              0.3333333333333333,
              "#9c179e"
             ],
             [
              0.4444444444444444,
              "#bd3786"
             ],
             [
              0.5555555555555556,
              "#d8576b"
             ],
             [
              0.6666666666666666,
              "#ed7953"
             ],
             [
              0.7777777777777778,
              "#fb9f3a"
             ],
             [
              0.8888888888888888,
              "#fdca26"
             ],
             [
              1,
              "#f0f921"
             ]
            ],
            "type": "heatmap"
           }
          ],
          "heatmapgl": [
           {
            "colorbar": {
             "outlinewidth": 0,
             "ticks": ""
            },
            "colorscale": [
             [
              0,
              "#0d0887"
             ],
             [
              0.1111111111111111,
              "#46039f"
             ],
             [
              0.2222222222222222,
              "#7201a8"
             ],
             [
              0.3333333333333333,
              "#9c179e"
             ],
             [
              0.4444444444444444,
              "#bd3786"
             ],
             [
              0.5555555555555556,
              "#d8576b"
             ],
             [
              0.6666666666666666,
              "#ed7953"
             ],
             [
              0.7777777777777778,
              "#fb9f3a"
             ],
             [
              0.8888888888888888,
              "#fdca26"
             ],
             [
              1,
              "#f0f921"
             ]
            ],
            "type": "heatmapgl"
           }
          ],
          "histogram": [
           {
            "marker": {
             "pattern": {
              "fillmode": "overlay",
              "size": 10,
              "solidity": 0.2
             }
            },
            "type": "histogram"
           }
          ],
          "histogram2d": [
           {
            "colorbar": {
             "outlinewidth": 0,
             "ticks": ""
            },
            "colorscale": [
             [
              0,
              "#0d0887"
             ],
             [
              0.1111111111111111,
              "#46039f"
             ],
             [
              0.2222222222222222,
              "#7201a8"
             ],
             [
              0.3333333333333333,
              "#9c179e"
             ],
             [
              0.4444444444444444,
              "#bd3786"
             ],
             [
              0.5555555555555556,
              "#d8576b"
             ],
             [
              0.6666666666666666,
              "#ed7953"
             ],
             [
              0.7777777777777778,
              "#fb9f3a"
             ],
             [
              0.8888888888888888,
              "#fdca26"
             ],
             [
              1,
              "#f0f921"
             ]
            ],
            "type": "histogram2d"
           }
          ],
          "histogram2dcontour": [
           {
            "colorbar": {
             "outlinewidth": 0,
             "ticks": ""
            },
            "colorscale": [
             [
              0,
              "#0d0887"
             ],
             [
              0.1111111111111111,
              "#46039f"
             ],
             [
              0.2222222222222222,
              "#7201a8"
             ],
             [
              0.3333333333333333,
              "#9c179e"
             ],
             [
              0.4444444444444444,
              "#bd3786"
             ],
             [
              0.5555555555555556,
              "#d8576b"
             ],
             [
              0.6666666666666666,
              "#ed7953"
             ],
             [
              0.7777777777777778,
              "#fb9f3a"
             ],
             [
              0.8888888888888888,
              "#fdca26"
             ],
             [
              1,
              "#f0f921"
             ]
            ],
            "type": "histogram2dcontour"
           }
          ],
          "mesh3d": [
           {
            "colorbar": {
             "outlinewidth": 0,
             "ticks": ""
            },
            "type": "mesh3d"
           }
          ],
          "parcoords": [
           {
            "line": {
             "colorbar": {
              "outlinewidth": 0,
              "ticks": ""
             }
            },
            "type": "parcoords"
           }
          ],
          "pie": [
           {
            "automargin": true,
            "type": "pie"
           }
          ],
          "scatter": [
           {
            "fillpattern": {
             "fillmode": "overlay",
             "size": 10,
             "solidity": 0.2
            },
            "type": "scatter"
           }
          ],
          "scatter3d": [
           {
            "line": {
             "colorbar": {
              "outlinewidth": 0,
              "ticks": ""
             }
            },
            "marker": {
             "colorbar": {
              "outlinewidth": 0,
              "ticks": ""
             }
            },
            "type": "scatter3d"
           }
          ],
          "scattercarpet": [
           {
            "marker": {
             "colorbar": {
              "outlinewidth": 0,
              "ticks": ""
             }
            },
            "type": "scattercarpet"
           }
          ],
          "scattergeo": [
           {
            "marker": {
             "colorbar": {
              "outlinewidth": 0,
              "ticks": ""
             }
            },
            "type": "scattergeo"
           }
          ],
          "scattergl": [
           {
            "marker": {
             "colorbar": {
              "outlinewidth": 0,
              "ticks": ""
             }
            },
            "type": "scattergl"
           }
          ],
          "scattermapbox": [
           {
            "marker": {
             "colorbar": {
              "outlinewidth": 0,
              "ticks": ""
             }
            },
            "type": "scattermapbox"
           }
          ],
          "scatterpolar": [
           {
            "marker": {
             "colorbar": {
              "outlinewidth": 0,
              "ticks": ""
             }
            },
            "type": "scatterpolar"
           }
          ],
          "scatterpolargl": [
           {
            "marker": {
             "colorbar": {
              "outlinewidth": 0,
              "ticks": ""
             }
            },
            "type": "scatterpolargl"
           }
          ],
          "scatterternary": [
           {
            "marker": {
             "colorbar": {
              "outlinewidth": 0,
              "ticks": ""
             }
            },
            "type": "scatterternary"
           }
          ],
          "surface": [
           {
            "colorbar": {
             "outlinewidth": 0,
             "ticks": ""
            },
            "colorscale": [
             [
              0,
              "#0d0887"
             ],
             [
              0.1111111111111111,
              "#46039f"
             ],
             [
              0.2222222222222222,
              "#7201a8"
             ],
             [
              0.3333333333333333,
              "#9c179e"
             ],
             [
              0.4444444444444444,
              "#bd3786"
             ],
             [
              0.5555555555555556,
              "#d8576b"
             ],
             [
              0.6666666666666666,
              "#ed7953"
             ],
             [
              0.7777777777777778,
              "#fb9f3a"
             ],
             [
              0.8888888888888888,
              "#fdca26"
             ],
             [
              1,
              "#f0f921"
             ]
            ],
            "type": "surface"
           }
          ],
          "table": [
           {
            "cells": {
             "fill": {
              "color": "#EBF0F8"
             },
             "line": {
              "color": "white"
             }
            },
            "header": {
             "fill": {
              "color": "#C8D4E3"
             },
             "line": {
              "color": "white"
             }
            },
            "type": "table"
           }
          ]
         },
         "layout": {
          "annotationdefaults": {
           "arrowcolor": "#2a3f5f",
           "arrowhead": 0,
           "arrowwidth": 1
          },
          "autotypenumbers": "strict",
          "coloraxis": {
           "colorbar": {
            "outlinewidth": 0,
            "ticks": ""
           }
          },
          "colorscale": {
           "diverging": [
            [
             0,
             "#8e0152"
            ],
            [
             0.1,
             "#c51b7d"
            ],
            [
             0.2,
             "#de77ae"
            ],
            [
             0.3,
             "#f1b6da"
            ],
            [
             0.4,
             "#fde0ef"
            ],
            [
             0.5,
             "#f7f7f7"
            ],
            [
             0.6,
             "#e6f5d0"
            ],
            [
             0.7,
             "#b8e186"
            ],
            [
             0.8,
             "#7fbc41"
            ],
            [
             0.9,
             "#4d9221"
            ],
            [
             1,
             "#276419"
            ]
           ],
           "sequential": [
            [
             0,
             "#0d0887"
            ],
            [
             0.1111111111111111,
             "#46039f"
            ],
            [
             0.2222222222222222,
             "#7201a8"
            ],
            [
             0.3333333333333333,
             "#9c179e"
            ],
            [
             0.4444444444444444,
             "#bd3786"
            ],
            [
             0.5555555555555556,
             "#d8576b"
            ],
            [
             0.6666666666666666,
             "#ed7953"
            ],
            [
             0.7777777777777778,
             "#fb9f3a"
            ],
            [
             0.8888888888888888,
             "#fdca26"
            ],
            [
             1,
             "#f0f921"
            ]
           ],
           "sequentialminus": [
            [
             0,
             "#0d0887"
            ],
            [
             0.1111111111111111,
             "#46039f"
            ],
            [
             0.2222222222222222,
             "#7201a8"
            ],
            [
             0.3333333333333333,
             "#9c179e"
            ],
            [
             0.4444444444444444,
             "#bd3786"
            ],
            [
             0.5555555555555556,
             "#d8576b"
            ],
            [
             0.6666666666666666,
             "#ed7953"
            ],
            [
             0.7777777777777778,
             "#fb9f3a"
            ],
            [
             0.8888888888888888,
             "#fdca26"
            ],
            [
             1,
             "#f0f921"
            ]
           ]
          },
          "colorway": [
           "#636efa",
           "#EF553B",
           "#00cc96",
           "#ab63fa",
           "#FFA15A",
           "#19d3f3",
           "#FF6692",
           "#B6E880",
           "#FF97FF",
           "#FECB52"
          ],
          "font": {
           "color": "#2a3f5f"
          },
          "geo": {
           "bgcolor": "white",
           "lakecolor": "white",
           "landcolor": "#E5ECF6",
           "showlakes": true,
           "showland": true,
           "subunitcolor": "white"
          },
          "hoverlabel": {
           "align": "left"
          },
          "hovermode": "closest",
          "mapbox": {
           "style": "light"
          },
          "paper_bgcolor": "white",
          "plot_bgcolor": "#E5ECF6",
          "polar": {
           "angularaxis": {
            "gridcolor": "white",
            "linecolor": "white",
            "ticks": ""
           },
           "bgcolor": "#E5ECF6",
           "radialaxis": {
            "gridcolor": "white",
            "linecolor": "white",
            "ticks": ""
           }
          },
          "scene": {
           "xaxis": {
            "backgroundcolor": "#E5ECF6",
            "gridcolor": "white",
            "gridwidth": 2,
            "linecolor": "white",
            "showbackground": true,
            "ticks": "",
            "zerolinecolor": "white"
           },
           "yaxis": {
            "backgroundcolor": "#E5ECF6",
            "gridcolor": "white",
            "gridwidth": 2,
            "linecolor": "white",
            "showbackground": true,
            "ticks": "",
            "zerolinecolor": "white"
           },
           "zaxis": {
            "backgroundcolor": "#E5ECF6",
            "gridcolor": "white",
            "gridwidth": 2,
            "linecolor": "white",
            "showbackground": true,
            "ticks": "",
            "zerolinecolor": "white"
           }
          },
          "shapedefaults": {
           "line": {
            "color": "#2a3f5f"
           }
          },
          "ternary": {
           "aaxis": {
            "gridcolor": "white",
            "linecolor": "white",
            "ticks": ""
           },
           "baxis": {
            "gridcolor": "white",
            "linecolor": "white",
            "ticks": ""
           },
           "bgcolor": "#E5ECF6",
           "caxis": {
            "gridcolor": "white",
            "linecolor": "white",
            "ticks": ""
           }
          },
          "title": {
           "x": 0.05
          },
          "xaxis": {
           "automargin": true,
           "gridcolor": "white",
           "linecolor": "white",
           "ticks": "",
           "title": {
            "standoff": 15
           },
           "zerolinecolor": "white",
           "zerolinewidth": 2
          },
          "yaxis": {
           "automargin": true,
           "gridcolor": "white",
           "linecolor": "white",
           "ticks": "",
           "title": {
            "standoff": 15
           },
           "zerolinecolor": "white",
           "zerolinewidth": 2
          }
         }
        },
        "title": {
         "text": "Population vs GDP"
        },
        "xaxis": {
         "anchor": "y",
         "domain": [
          0,
          1
         ],
         "title": {
          "text": "Population"
         }
        },
        "yaxis": {
         "anchor": "x",
         "domain": [
          0,
          1
         ],
         "title": {
          "text": "GDP"
         }
        }
       }
      }
     },
     "metadata": {},
     "output_type": "display_data"
    }
   ],
   "source": [
    "fig = px.scatter(df,\n",
    "                 x=\"Population\",\n",
    "                 y=\"GDP\",\n",
    "                 color=\"Country\",\n",
    "                 title=\"Population vs GDP\")\n",
    "fig.show()"
   ]
  }
 ],
 "metadata": {
  "kernelspec": {
   "display_name": "Python 3",
   "language": "python",
   "name": "python3"
  },
  "language_info": {
   "codemirror_mode": {
    "name": "ipython",
    "version": 3
   },
   "file_extension": ".py",
   "mimetype": "text/x-python",
   "name": "python",
   "nbconvert_exporter": "python",
   "pygments_lexer": "ipython3",
   "version": "3.9.16"
  },
  "orig_nbformat": 4
 },
 "nbformat": 4,
 "nbformat_minor": 2
}
